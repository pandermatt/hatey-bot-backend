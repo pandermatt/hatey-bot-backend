{
 "cells": [
  {
   "cell_type": "code",
   "execution_count": 1,
   "outputs": [],
   "source": [
    "import numpy as np\n",
    "import pandas as pd\n",
    "from config import config\n",
    "from model.toxic_comment_classifier import ToxicCommentClassifier\n",
    "import pickle\n",
    "from transformers import RobertaTokenizer\n",
    "from sklearn.model_selection import train_test_split\n",
    "from torch.utils.data import TensorDataset, DataLoader, RandomSampler, SequentialSampler\n",
    "import torch\n",
    "from transformers import RobertaForSequenceClassification\n",
    "from sklearn.metrics import f1_score, accuracy_score\n",
    "from tqdm import trange\n",
    "from torch.nn import BCEWithLogitsLoss\n",
    "from sklearn.metrics import classification_report\n",
    "from imblearn.over_sampling import RandomOverSampler\n",
    "from collections import Counter"
   ],
   "metadata": {
    "collapsed": false,
    "pycharm": {
     "name": "#%%\n"
    }
   }
  },
  {
   "cell_type": "markdown",
   "source": [
    "# Preprocessing"
   ],
   "metadata": {
    "collapsed": false,
    "pycharm": {
     "name": "#%% md\n"
    }
   }
  },
  {
   "cell_type": "code",
   "execution_count": 3,
   "outputs": [
    {
     "data": {
      "text/plain": "         example_no    is_abuse.1    is_abuse.0   is_abuse.-1   is_abuse.-2  \\\ncount  12768.000000  12768.000000  12768.000000  12768.000000  12768.000000   \nmean    6383.500000      0.788534      0.052553      0.063675      0.073152   \nstd     3685.948453      0.408364      0.223149      0.244182      0.260395   \nmin        0.000000      0.000000      0.000000      0.000000      0.000000   \n25%     3191.750000      1.000000      0.000000      0.000000      0.000000   \n50%     6383.500000      1.000000      0.000000      0.000000      0.000000   \n75%     9575.250000      1.000000      0.000000      0.000000      0.000000   \nmax    12767.000000      1.000000      1.000000      1.000000      1.000000   \n\n        is_abuse.-3  type.ableism  type.homophobic  type.intellectual  \\\ncount  12768.000000  12768.000000     12768.000000       12768.000000   \nmean       0.022086      0.001096         0.006501           0.026159   \nstd        0.146971      0.033096         0.080367           0.159615   \nmin        0.000000      0.000000         0.000000           0.000000   \n25%        0.000000      0.000000         0.000000           0.000000   \n50%        0.000000      0.000000         0.000000           0.000000   \n75%        0.000000      0.000000         0.000000           0.000000   \nmax        1.000000      1.000000         1.000000           1.000000   \n\n        type.racist   type.sexist  type.sex_harassment  type.transphobic  \\\ncount  12768.000000  12768.000000         12768.000000      12768.000000   \nmean       0.002115      0.022321             0.044643          0.000313   \nstd        0.045939      0.147733             0.206527          0.017698   \nmin        0.000000      0.000000             0.000000          0.000000   \n25%        0.000000      0.000000             0.000000          0.000000   \n50%        0.000000      0.000000             0.000000          0.000000   \n75%        0.000000      0.000000             0.000000          0.000000   \nmax        1.000000      1.000000             1.000000          1.000000   \n\n       target.generalised  target.individual  target.system  \\\ncount        12768.000000       12768.000000   12768.000000   \nmean             0.003603           0.007597       0.149593   \nstd              0.059917           0.086833       0.356686   \nmin              0.000000           0.000000       0.000000   \n25%              0.000000           0.000000       0.000000   \n50%              0.000000           0.000000       0.000000   \n75%              0.000000           0.000000       0.000000   \nmax              1.000000           1.000000       1.000000   \n\n       direction.explicit  direction.implicit  \ncount        12768.000000        12768.000000  \nmean             0.126723            0.033443  \nstd              0.332676            0.179797  \nmin              0.000000            0.000000  \n25%              0.000000            0.000000  \n50%              0.000000            0.000000  \n75%              0.000000            0.000000  \nmax              1.000000            1.000000  ",
      "text/html": "<div>\n<style scoped>\n    .dataframe tbody tr th:only-of-type {\n        vertical-align: middle;\n    }\n\n    .dataframe tbody tr th {\n        vertical-align: top;\n    }\n\n    .dataframe thead th {\n        text-align: right;\n    }\n</style>\n<table border=\"1\" class=\"dataframe\">\n  <thead>\n    <tr style=\"text-align: right;\">\n      <th></th>\n      <th>example_no</th>\n      <th>is_abuse.1</th>\n      <th>is_abuse.0</th>\n      <th>is_abuse.-1</th>\n      <th>is_abuse.-2</th>\n      <th>is_abuse.-3</th>\n      <th>type.ableism</th>\n      <th>type.homophobic</th>\n      <th>type.intellectual</th>\n      <th>type.racist</th>\n      <th>type.sexist</th>\n      <th>type.sex_harassment</th>\n      <th>type.transphobic</th>\n      <th>target.generalised</th>\n      <th>target.individual</th>\n      <th>target.system</th>\n      <th>direction.explicit</th>\n      <th>direction.implicit</th>\n    </tr>\n  </thead>\n  <tbody>\n    <tr>\n      <th>count</th>\n      <td>12768.000000</td>\n      <td>12768.000000</td>\n      <td>12768.000000</td>\n      <td>12768.000000</td>\n      <td>12768.000000</td>\n      <td>12768.000000</td>\n      <td>12768.000000</td>\n      <td>12768.000000</td>\n      <td>12768.000000</td>\n      <td>12768.000000</td>\n      <td>12768.000000</td>\n      <td>12768.000000</td>\n      <td>12768.000000</td>\n      <td>12768.000000</td>\n      <td>12768.000000</td>\n      <td>12768.000000</td>\n      <td>12768.000000</td>\n      <td>12768.000000</td>\n    </tr>\n    <tr>\n      <th>mean</th>\n      <td>6383.500000</td>\n      <td>0.788534</td>\n      <td>0.052553</td>\n      <td>0.063675</td>\n      <td>0.073152</td>\n      <td>0.022086</td>\n      <td>0.001096</td>\n      <td>0.006501</td>\n      <td>0.026159</td>\n      <td>0.002115</td>\n      <td>0.022321</td>\n      <td>0.044643</td>\n      <td>0.000313</td>\n      <td>0.003603</td>\n      <td>0.007597</td>\n      <td>0.149593</td>\n      <td>0.126723</td>\n      <td>0.033443</td>\n    </tr>\n    <tr>\n      <th>std</th>\n      <td>3685.948453</td>\n      <td>0.408364</td>\n      <td>0.223149</td>\n      <td>0.244182</td>\n      <td>0.260395</td>\n      <td>0.146971</td>\n      <td>0.033096</td>\n      <td>0.080367</td>\n      <td>0.159615</td>\n      <td>0.045939</td>\n      <td>0.147733</td>\n      <td>0.206527</td>\n      <td>0.017698</td>\n      <td>0.059917</td>\n      <td>0.086833</td>\n      <td>0.356686</td>\n      <td>0.332676</td>\n      <td>0.179797</td>\n    </tr>\n    <tr>\n      <th>min</th>\n      <td>0.000000</td>\n      <td>0.000000</td>\n      <td>0.000000</td>\n      <td>0.000000</td>\n      <td>0.000000</td>\n      <td>0.000000</td>\n      <td>0.000000</td>\n      <td>0.000000</td>\n      <td>0.000000</td>\n      <td>0.000000</td>\n      <td>0.000000</td>\n      <td>0.000000</td>\n      <td>0.000000</td>\n      <td>0.000000</td>\n      <td>0.000000</td>\n      <td>0.000000</td>\n      <td>0.000000</td>\n      <td>0.000000</td>\n    </tr>\n    <tr>\n      <th>25%</th>\n      <td>3191.750000</td>\n      <td>1.000000</td>\n      <td>0.000000</td>\n      <td>0.000000</td>\n      <td>0.000000</td>\n      <td>0.000000</td>\n      <td>0.000000</td>\n      <td>0.000000</td>\n      <td>0.000000</td>\n      <td>0.000000</td>\n      <td>0.000000</td>\n      <td>0.000000</td>\n      <td>0.000000</td>\n      <td>0.000000</td>\n      <td>0.000000</td>\n      <td>0.000000</td>\n      <td>0.000000</td>\n      <td>0.000000</td>\n    </tr>\n    <tr>\n      <th>50%</th>\n      <td>6383.500000</td>\n      <td>1.000000</td>\n      <td>0.000000</td>\n      <td>0.000000</td>\n      <td>0.000000</td>\n      <td>0.000000</td>\n      <td>0.000000</td>\n      <td>0.000000</td>\n      <td>0.000000</td>\n      <td>0.000000</td>\n      <td>0.000000</td>\n      <td>0.000000</td>\n      <td>0.000000</td>\n      <td>0.000000</td>\n      <td>0.000000</td>\n      <td>0.000000</td>\n      <td>0.000000</td>\n      <td>0.000000</td>\n    </tr>\n    <tr>\n      <th>75%</th>\n      <td>9575.250000</td>\n      <td>1.000000</td>\n      <td>0.000000</td>\n      <td>0.000000</td>\n      <td>0.000000</td>\n      <td>0.000000</td>\n      <td>0.000000</td>\n      <td>0.000000</td>\n      <td>0.000000</td>\n      <td>0.000000</td>\n      <td>0.000000</td>\n      <td>0.000000</td>\n      <td>0.000000</td>\n      <td>0.000000</td>\n      <td>0.000000</td>\n      <td>0.000000</td>\n      <td>0.000000</td>\n      <td>0.000000</td>\n    </tr>\n    <tr>\n      <th>max</th>\n      <td>12767.000000</td>\n      <td>1.000000</td>\n      <td>1.000000</td>\n      <td>1.000000</td>\n      <td>1.000000</td>\n      <td>1.000000</td>\n      <td>1.000000</td>\n      <td>1.000000</td>\n      <td>1.000000</td>\n      <td>1.000000</td>\n      <td>1.000000</td>\n      <td>1.000000</td>\n      <td>1.000000</td>\n      <td>1.000000</td>\n      <td>1.000000</td>\n      <td>1.000000</td>\n      <td>1.000000</td>\n      <td>1.000000</td>\n    </tr>\n  </tbody>\n</table>\n</div>"
     },
     "execution_count": 3,
     "metadata": {},
     "output_type": "execute_result"
    }
   ],
   "source": [
    "# Source: https://github.com/amandacurry/convabuse\n",
    "full_df = pd.read_csv(config.input_file('ConvAbuseEMNLPfull.csv'))\n",
    "full_df.describe()"
   ],
   "metadata": {
    "collapsed": false,
    "pycharm": {
     "name": "#%%\n"
    }
   }
  },
  {
   "cell_type": "code",
   "execution_count": 4,
   "outputs": [
    {
     "data": {
      "text/plain": "   example_no annotator_id                           conv_id  \\\n0           0   Annotator7                          245846.0   \n1           1   Annotator7                          159183.0   \n2           2   Annotator7                          340147.0   \n3           3   Annotator7  95cbaab0f8cb4cb59a3393e7fc61cafe   \n4           4   Annotator7                          270732.0   \n\n                                         prev_agent  \\\n0                  Does that question interest you?   \n1  Does it please you to believe I am a nobe jocky?   \n2                                   Have you tried?   \n3          Will you be travelling in Economy Class?   \n4                                     Please go on.   \n\n                    prev_user                                      agent  \\\n0  because my finger is happy       Why do you say your finger is happy?   \n1                     bye bye                              Please go on.   \n2                        dick                              Please go on.   \n3                         yes         What city will you be flying from?   \n4                      Hello.  How do you do. Please state your problem.   \n\n                              user         bot  is_abuse.1  is_abuse.0  ...  \\\n0              do you rember japan  E.L.I.Z.A.           1           0  ...   \n1              do you like it hard  E.L.I.Z.A.           0           1  ...   \n2  oh what a pickle dear monastery  E.L.I.Z.A.           1           0  ...   \n3                           Sydney   CarbonBot           1           0  ...   \n4                 how old are you?  E.L.I.Z.A.           1           0  ...   \n\n   type.intellectual  type.racist  type.sexist  type.sex_harassment  \\\n0                  0            0            0                    0   \n1                  0            0            0                    0   \n2                  0            0            0                    0   \n3                  0            0            0                    0   \n4                  0            0            0                    0   \n\n   type.transphobic  target.generalised  target.individual  target.system  \\\n0                 0                   0                  0              0   \n1                 0                   0                  0              0   \n2                 0                   0                  0              0   \n3                 0                   0                  0              0   \n4                 0                   0                  0              0   \n\n   direction.explicit  direction.implicit  \n0                   0                   0  \n1                   0                   0  \n2                   0                   0  \n3                   0                   0  \n4                   0                   0  \n\n[5 rows x 25 columns]",
      "text/html": "<div>\n<style scoped>\n    .dataframe tbody tr th:only-of-type {\n        vertical-align: middle;\n    }\n\n    .dataframe tbody tr th {\n        vertical-align: top;\n    }\n\n    .dataframe thead th {\n        text-align: right;\n    }\n</style>\n<table border=\"1\" class=\"dataframe\">\n  <thead>\n    <tr style=\"text-align: right;\">\n      <th></th>\n      <th>example_no</th>\n      <th>annotator_id</th>\n      <th>conv_id</th>\n      <th>prev_agent</th>\n      <th>prev_user</th>\n      <th>agent</th>\n      <th>user</th>\n      <th>bot</th>\n      <th>is_abuse.1</th>\n      <th>is_abuse.0</th>\n      <th>...</th>\n      <th>type.intellectual</th>\n      <th>type.racist</th>\n      <th>type.sexist</th>\n      <th>type.sex_harassment</th>\n      <th>type.transphobic</th>\n      <th>target.generalised</th>\n      <th>target.individual</th>\n      <th>target.system</th>\n      <th>direction.explicit</th>\n      <th>direction.implicit</th>\n    </tr>\n  </thead>\n  <tbody>\n    <tr>\n      <th>0</th>\n      <td>0</td>\n      <td>Annotator7</td>\n      <td>245846.0</td>\n      <td>Does that question interest you?</td>\n      <td>because my finger is happy</td>\n      <td>Why do you say your finger is happy?</td>\n      <td>do you rember japan</td>\n      <td>E.L.I.Z.A.</td>\n      <td>1</td>\n      <td>0</td>\n      <td>...</td>\n      <td>0</td>\n      <td>0</td>\n      <td>0</td>\n      <td>0</td>\n      <td>0</td>\n      <td>0</td>\n      <td>0</td>\n      <td>0</td>\n      <td>0</td>\n      <td>0</td>\n    </tr>\n    <tr>\n      <th>1</th>\n      <td>1</td>\n      <td>Annotator7</td>\n      <td>159183.0</td>\n      <td>Does it please you to believe I am a nobe jocky?</td>\n      <td>bye bye</td>\n      <td>Please go on.</td>\n      <td>do you like it hard</td>\n      <td>E.L.I.Z.A.</td>\n      <td>0</td>\n      <td>1</td>\n      <td>...</td>\n      <td>0</td>\n      <td>0</td>\n      <td>0</td>\n      <td>0</td>\n      <td>0</td>\n      <td>0</td>\n      <td>0</td>\n      <td>0</td>\n      <td>0</td>\n      <td>0</td>\n    </tr>\n    <tr>\n      <th>2</th>\n      <td>2</td>\n      <td>Annotator7</td>\n      <td>340147.0</td>\n      <td>Have you tried?</td>\n      <td>dick</td>\n      <td>Please go on.</td>\n      <td>oh what a pickle dear monastery</td>\n      <td>E.L.I.Z.A.</td>\n      <td>1</td>\n      <td>0</td>\n      <td>...</td>\n      <td>0</td>\n      <td>0</td>\n      <td>0</td>\n      <td>0</td>\n      <td>0</td>\n      <td>0</td>\n      <td>0</td>\n      <td>0</td>\n      <td>0</td>\n      <td>0</td>\n    </tr>\n    <tr>\n      <th>3</th>\n      <td>3</td>\n      <td>Annotator7</td>\n      <td>95cbaab0f8cb4cb59a3393e7fc61cafe</td>\n      <td>Will you be travelling in Economy Class?</td>\n      <td>yes</td>\n      <td>What city will you be flying from?</td>\n      <td>Sydney</td>\n      <td>CarbonBot</td>\n      <td>1</td>\n      <td>0</td>\n      <td>...</td>\n      <td>0</td>\n      <td>0</td>\n      <td>0</td>\n      <td>0</td>\n      <td>0</td>\n      <td>0</td>\n      <td>0</td>\n      <td>0</td>\n      <td>0</td>\n      <td>0</td>\n    </tr>\n    <tr>\n      <th>4</th>\n      <td>4</td>\n      <td>Annotator7</td>\n      <td>270732.0</td>\n      <td>Please go on.</td>\n      <td>Hello.</td>\n      <td>How do you do. Please state your problem.</td>\n      <td>how old are you?</td>\n      <td>E.L.I.Z.A.</td>\n      <td>1</td>\n      <td>0</td>\n      <td>...</td>\n      <td>0</td>\n      <td>0</td>\n      <td>0</td>\n      <td>0</td>\n      <td>0</td>\n      <td>0</td>\n      <td>0</td>\n      <td>0</td>\n      <td>0</td>\n      <td>0</td>\n    </tr>\n  </tbody>\n</table>\n<p>5 rows × 25 columns</p>\n</div>"
     },
     "execution_count": 4,
     "metadata": {},
     "output_type": "execute_result"
    }
   ],
   "source": [
    "full_df.head()"
   ],
   "metadata": {
    "collapsed": false,
    "pycharm": {
     "name": "#%%\n"
    }
   }
  },
  {
   "cell_type": "code",
   "execution_count": 5,
   "outputs": [
    {
     "data": {
      "text/plain": "                                                 text  type.ableism  \\\n32  Please go on. yo muma is so fat when she jumed...             0   \n33  Please go on. no You are being a bit negative....             0   \n62  You are sure? Bite me Can you elaborate on tha...             0   \n82  _ give me head Can you elaborate on that? suck...             0   \n87  Please go on. You look like monkey drool Oh, i...             0   \n\n    type.homophobic  type.intellectual  type.racist  type.sexist  \\\n32                0                  0            0            1   \n33                0                  0            0            1   \n62                0                  0            0            1   \n82                0                  0            0            0   \n87                0                  1            0            0   \n\n    type.sex_harassment  type.transphobic  \n32                    1                 0  \n33                    0                 0  \n62                    0                 0  \n82                    1                 0  \n87                    0                 0  ",
      "text/html": "<div>\n<style scoped>\n    .dataframe tbody tr th:only-of-type {\n        vertical-align: middle;\n    }\n\n    .dataframe tbody tr th {\n        vertical-align: top;\n    }\n\n    .dataframe thead th {\n        text-align: right;\n    }\n</style>\n<table border=\"1\" class=\"dataframe\">\n  <thead>\n    <tr style=\"text-align: right;\">\n      <th></th>\n      <th>text</th>\n      <th>type.ableism</th>\n      <th>type.homophobic</th>\n      <th>type.intellectual</th>\n      <th>type.racist</th>\n      <th>type.sexist</th>\n      <th>type.sex_harassment</th>\n      <th>type.transphobic</th>\n    </tr>\n  </thead>\n  <tbody>\n    <tr>\n      <th>32</th>\n      <td>Please go on. yo muma is so fat when she jumed...</td>\n      <td>0</td>\n      <td>0</td>\n      <td>0</td>\n      <td>0</td>\n      <td>1</td>\n      <td>1</td>\n      <td>0</td>\n    </tr>\n    <tr>\n      <th>33</th>\n      <td>Please go on. no You are being a bit negative....</td>\n      <td>0</td>\n      <td>0</td>\n      <td>0</td>\n      <td>0</td>\n      <td>1</td>\n      <td>0</td>\n      <td>0</td>\n    </tr>\n    <tr>\n      <th>62</th>\n      <td>You are sure? Bite me Can you elaborate on tha...</td>\n      <td>0</td>\n      <td>0</td>\n      <td>0</td>\n      <td>0</td>\n      <td>1</td>\n      <td>0</td>\n      <td>0</td>\n    </tr>\n    <tr>\n      <th>82</th>\n      <td>_ give me head Can you elaborate on that? suck...</td>\n      <td>0</td>\n      <td>0</td>\n      <td>0</td>\n      <td>0</td>\n      <td>0</td>\n      <td>1</td>\n      <td>0</td>\n    </tr>\n    <tr>\n      <th>87</th>\n      <td>Please go on. You look like monkey drool Oh, i...</td>\n      <td>0</td>\n      <td>0</td>\n      <td>1</td>\n      <td>0</td>\n      <td>0</td>\n      <td>0</td>\n      <td>0</td>\n    </tr>\n  </tbody>\n</table>\n</div>"
     },
     "execution_count": 5,
     "metadata": {},
     "output_type": "execute_result"
    }
   ],
   "source": [
    "clean_df = full_df.drop(columns=['example_no', 'annotator_id', 'conv_id', 'bot', 'target.generalised', 'target.individual', 'target.system', 'direction.explicit', 'direction.implicit', 'is_abuse.1', 'is_abuse.0', 'is_abuse.-1', 'is_abuse.-2', 'is_abuse.-3'])\n",
    "clean_df['text'] = clean_df['prev_agent'] + ' ' + clean_df['prev_user'] + ' ' + clean_df['agent'] + ' ' + clean_df['user']\n",
    "column_order = ['text']\n",
    "column_order.extend(clean_df.columns.drop('text'))\n",
    "clean_df = clean_df[column_order]\n",
    "clean_df = clean_df.drop(columns=['prev_agent', 'prev_user', 'agent', 'user'])\n",
    "\n",
    "label_columns = clean_df.columns.drop('text')\n",
    "clean_df = clean_df[clean_df[label_columns].sum(axis=1) > 0]\n",
    "\n",
    "clean_df.to_csv(config.result_file('clean_df.csv'), index=False)\n",
    "\n",
    "clean_df.head()"
   ],
   "metadata": {
    "collapsed": false,
    "pycharm": {
     "name": "#%%\n"
    }
   }
  },
  {
   "cell_type": "code",
   "execution_count": 6,
   "outputs": [
    {
     "data": {
      "text/plain": "                                                 text  type.ableism  \\\n32  Please go on. yo muma is so fat when she jumed...             0   \n33  Please go on. no You are being a bit negative....             0   \n62  You are sure? Bite me Can you elaborate on tha...             0   \n82  _ give me head Can you elaborate on that? suck...             0   \n87  Please go on. You look like monkey drool Oh, i...             0   \n\n    type.homophobic  type.intellectual  type.racist  type.sexist  \\\n32                0                  0            0            1   \n33                0                  0            0            1   \n62                0                  0            0            1   \n82                0                  0            0            0   \n87                0                  1            0            0   \n\n    type.sex_harassment  type.transphobic                one_hot  \n32                    1                 0  [0, 0, 0, 0, 1, 1, 0]  \n33                    0                 0  [0, 0, 0, 0, 1, 0, 0]  \n62                    0                 0  [0, 0, 0, 0, 1, 0, 0]  \n82                    1                 0  [0, 0, 0, 0, 0, 1, 0]  \n87                    0                 0  [0, 0, 1, 0, 0, 0, 0]  ",
      "text/html": "<div>\n<style scoped>\n    .dataframe tbody tr th:only-of-type {\n        vertical-align: middle;\n    }\n\n    .dataframe tbody tr th {\n        vertical-align: top;\n    }\n\n    .dataframe thead th {\n        text-align: right;\n    }\n</style>\n<table border=\"1\" class=\"dataframe\">\n  <thead>\n    <tr style=\"text-align: right;\">\n      <th></th>\n      <th>text</th>\n      <th>type.ableism</th>\n      <th>type.homophobic</th>\n      <th>type.intellectual</th>\n      <th>type.racist</th>\n      <th>type.sexist</th>\n      <th>type.sex_harassment</th>\n      <th>type.transphobic</th>\n      <th>one_hot</th>\n    </tr>\n  </thead>\n  <tbody>\n    <tr>\n      <th>32</th>\n      <td>Please go on. yo muma is so fat when she jumed...</td>\n      <td>0</td>\n      <td>0</td>\n      <td>0</td>\n      <td>0</td>\n      <td>1</td>\n      <td>1</td>\n      <td>0</td>\n      <td>[0, 0, 0, 0, 1, 1, 0]</td>\n    </tr>\n    <tr>\n      <th>33</th>\n      <td>Please go on. no You are being a bit negative....</td>\n      <td>0</td>\n      <td>0</td>\n      <td>0</td>\n      <td>0</td>\n      <td>1</td>\n      <td>0</td>\n      <td>0</td>\n      <td>[0, 0, 0, 0, 1, 0, 0]</td>\n    </tr>\n    <tr>\n      <th>62</th>\n      <td>You are sure? Bite me Can you elaborate on tha...</td>\n      <td>0</td>\n      <td>0</td>\n      <td>0</td>\n      <td>0</td>\n      <td>1</td>\n      <td>0</td>\n      <td>0</td>\n      <td>[0, 0, 0, 0, 1, 0, 0]</td>\n    </tr>\n    <tr>\n      <th>82</th>\n      <td>_ give me head Can you elaborate on that? suck...</td>\n      <td>0</td>\n      <td>0</td>\n      <td>0</td>\n      <td>0</td>\n      <td>0</td>\n      <td>1</td>\n      <td>0</td>\n      <td>[0, 0, 0, 0, 0, 1, 0]</td>\n    </tr>\n    <tr>\n      <th>87</th>\n      <td>Please go on. You look like monkey drool Oh, i...</td>\n      <td>0</td>\n      <td>0</td>\n      <td>1</td>\n      <td>0</td>\n      <td>0</td>\n      <td>0</td>\n      <td>0</td>\n      <td>[0, 0, 1, 0, 0, 0, 0]</td>\n    </tr>\n  </tbody>\n</table>\n</div>"
     },
     "execution_count": 6,
     "metadata": {},
     "output_type": "execute_result"
    }
   ],
   "source": [
    "clean_df['one_hot'] = clean_df[label_columns].values.tolist()\n",
    "clean_df.head()"
   ],
   "metadata": {
    "collapsed": false,
    "pycharm": {
     "name": "#%%\n"
    }
   }
  },
  {
   "cell_type": "code",
   "execution_count": 7,
   "outputs": [
    {
     "name": "stdout",
     "output_type": "stream",
     "text": [
      "Index(['type.ableism', 'type.homophobic', 'type.intellectual', 'type.racist',\n",
      "       'type.sexist', 'type.sex_harassment', 'type.transphobic', 'one_hot'],\n",
      "      dtype='object')\n"
     ]
    }
   ],
   "source": [
    "print(clean_df.columns.drop('text'))"
   ],
   "metadata": {
    "collapsed": false,
    "pycharm": {
     "name": "#%%\n"
    }
   }
  },
  {
   "cell_type": "code",
   "execution_count": 8,
   "outputs": [],
   "source": [
    "labels = clean_df['one_hot'].values.tolist()\n",
    "text = clean_df['text'].values.tolist()"
   ],
   "metadata": {
    "collapsed": false,
    "pycharm": {
     "name": "#%%\n"
    }
   }
  },
  {
   "cell_type": "code",
   "execution_count": 9,
   "outputs": [
    {
     "name": "stdout",
     "output_type": "stream",
     "text": [
      "Max sentence lenght:  965\n",
      "Avg sentence lenght:  99.05194805194805\n",
      "Std sentence lenght:  76.67330864909947\n",
      "Median sentence lenght:  85.0\n"
     ]
    }
   ],
   "source": [
    "max_sentence_lenght = clean_df['text'].str.len().max()\n",
    "avg_sentence_lenght = clean_df['text'].str.len().mean()\n",
    "std_sentence_lenght = clean_df['text'].str.len().std()\n",
    "median_sentence_lenght = clean_df['text'].str.len().median()\n",
    "print('Max sentence lenght: ', max_sentence_lenght)\n",
    "print('Avg sentence lenght: ', avg_sentence_lenght)\n",
    "print('Std sentence lenght: ', std_sentence_lenght)\n",
    "print('Median sentence lenght: ', median_sentence_lenght)"
   ],
   "metadata": {
    "collapsed": false,
    "pycharm": {
     "name": "#%%\n"
    }
   }
  },
  {
   "cell_type": "code",
   "execution_count": 10,
   "outputs": [
    {
     "data": {
      "text/plain": "False"
     },
     "execution_count": 10,
     "metadata": {},
     "output_type": "execute_result"
    }
   ],
   "source": [
    "clean_df.isnull().values.any()"
   ],
   "metadata": {
    "collapsed": false,
    "pycharm": {
     "name": "#%%\n"
    }
   }
  },
  {
   "cell_type": "code",
   "execution_count": 11,
   "outputs": [],
   "source": [
    "clean_df = clean_df.reset_index(drop=True)"
   ],
   "metadata": {
    "collapsed": false,
    "pycharm": {
     "name": "#%%\n"
    }
   }
  },
  {
   "cell_type": "code",
   "execution_count": 12,
   "outputs": [],
   "source": [
    "with open(config.result_file('label_columns.pkl'), 'wb') as f:\n",
    "    pickle.dump(label_columns, f)"
   ],
   "metadata": {
    "collapsed": false,
    "pycharm": {
     "name": "#%%\n"
    }
   }
  },
  {
   "cell_type": "markdown",
   "source": [
    "# Tokenize"
   ],
   "metadata": {
    "collapsed": false,
    "pycharm": {
     "name": "#%% md\n"
    }
   }
  },
  {
   "cell_type": "code",
   "execution_count": 11,
   "outputs": [],
   "source": [
    "max_length = 100"
   ],
   "metadata": {
    "collapsed": false,
    "pycharm": {
     "name": "#%%\n"
    }
   }
  },
  {
   "cell_type": "code",
   "execution_count": 12,
   "outputs": [],
   "source": [
    "tokenizer = RobertaTokenizer.from_pretrained('roberta-base')\n",
    "encoded = tokenizer.batch_encode_plus(text, max_length=max_length, truncation=True, padding='max_length')"
   ],
   "metadata": {
    "collapsed": false,
    "pycharm": {
     "name": "#%%\n"
    }
   }
  },
  {
   "cell_type": "code",
   "execution_count": 13,
   "outputs": [],
   "source": [
    "input_ids = encoded['input_ids']\n",
    "attention_mask = encoded['attention_mask']"
   ],
   "metadata": {
    "collapsed": false,
    "pycharm": {
     "name": "#%%\n"
    }
   }
  },
  {
   "cell_type": "markdown",
   "source": [
    "# Train test split"
   ],
   "metadata": {
    "collapsed": false,
    "pycharm": {
     "name": "#%% md\n"
    }
   }
  },
  {
   "cell_type": "code",
   "execution_count": 14,
   "outputs": [
    {
     "name": "stdout",
     "output_type": "stream",
     "text": [
      "df label indices with only one instance:  [1136, 923, 902, 675, 495, 169]\n"
     ]
    }
   ],
   "source": [
    "label_counts = clean_df['one_hot'].astype(str).value_counts()\n",
    "one_freq = label_counts[label_counts==1].keys()\n",
    "one_freq_idxs = sorted(list(clean_df[clean_df['one_hot'].astype(str).isin(one_freq)].index), reverse=True)\n",
    "print('df label indices with only one instance: ', one_freq_idxs)\n",
    "\n",
    "one_freq_input_ids = [input_ids.pop(i) for i in one_freq_idxs]\n",
    "one_freq_attention_masks = [attention_mask.pop(i) for i in one_freq_idxs]\n",
    "one_freq_labels = [labels.pop(i) for i in one_freq_idxs]"
   ],
   "metadata": {
    "collapsed": false,
    "pycharm": {
     "name": "#%%\n"
    }
   }
  },
  {
   "cell_type": "code",
   "execution_count": 36,
   "outputs": [],
   "source": [
    "test_size = 0.1\n",
    "train_inputs_full, test_inputs, train_labels_full, test_labels = train_test_split(input_ids, labels, random_state=42, test_size=test_size, stratify=labels)\n",
    "train_masks, test_masks, _, _ = train_test_split(attention_mask, labels, random_state=42, test_size=test_size, stratify=labels)"
   ],
   "metadata": {
    "collapsed": false,
    "pycharm": {
     "name": "#%%\n"
    }
   }
  },
  {
   "cell_type": "code",
   "execution_count": 37,
   "outputs": [],
   "source": [
    "val_size = 0.2\n",
    "train_inputs, val_inputs, train_labels, val_labels = train_test_split(train_inputs_full, train_labels_full, random_state=42, test_size=val_size, stratify=train_labels_full)\n",
    "train_masks, val_masks, _, _ = train_test_split(train_masks, train_labels_full, random_state=42, test_size=val_size, stratify=train_labels_full)"
   ],
   "metadata": {
    "collapsed": false,
    "pycharm": {
     "name": "#%%\n"
    }
   }
  },
  {
   "cell_type": "code",
   "execution_count": 39,
   "outputs": [],
   "source": [
    "train_inputs.extend(one_freq_input_ids)\n",
    "train_labels.extend(one_freq_labels)\n",
    "train_masks.extend(one_freq_attention_masks)\n",
    "\n",
    "train_inputs = torch.tensor(train_inputs)\n",
    "val_inputs = torch.tensor(val_inputs)\n",
    "test_inputs = torch.tensor(test_inputs)\n",
    "\n",
    "train_labels = torch.tensor(train_labels)\n",
    "val_labels = torch.tensor(val_labels)\n",
    "test_labels = torch.tensor(test_labels)\n",
    "\n",
    "train_masks = torch.tensor(train_masks)\n",
    "val_masks = torch.tensor(val_masks)\n",
    "test_masks = torch.tensor(test_masks)"
   ],
   "metadata": {
    "collapsed": false,
    "pycharm": {
     "name": "#%%\n"
    }
   }
  },
  {
   "cell_type": "code",
   "execution_count": 47,
   "outputs": [
    {
     "name": "stderr",
     "output_type": "stream",
     "text": [
      "C:\\Users\\Tobias\\AppData\\Local\\Temp\\ipykernel_11732\\2225995053.py:3: UserWarning: To copy construct from a tensor, it is recommended to use sourceTensor.clone().detach() or sourceTensor.clone().detach().requires_grad_(True), rather than torch.tensor(sourceTensor).\n",
      "  train_data = TensorDataset(train_inputs, train_masks, torch.tensor(train_labels).to(device))\n",
      "C:\\Users\\Tobias\\AppData\\Local\\Temp\\ipykernel_11732\\2225995053.py:7: UserWarning: To copy construct from a tensor, it is recommended to use sourceTensor.clone().detach() or sourceTensor.clone().detach().requires_grad_(True), rather than torch.tensor(sourceTensor).\n",
      "  test_data = TensorDataset(test_inputs, test_masks, torch.tensor(test_labels).to(device))\n",
      "C:\\Users\\Tobias\\AppData\\Local\\Temp\\ipykernel_11732\\2225995053.py:11: UserWarning: To copy construct from a tensor, it is recommended to use sourceTensor.clone().detach() or sourceTensor.clone().detach().requires_grad_(True), rather than torch.tensor(sourceTensor).\n",
      "  val_data = TensorDataset(val_inputs, val_masks, torch.tensor(val_labels).to(device))\n"
     ]
    }
   ],
   "source": [
    "batch_size = 32\n",
    "\n",
    "train_data = TensorDataset(train_inputs, train_masks, torch.tensor(train_labels))\n",
    "train_sampler = RandomSampler(train_data)\n",
    "train_dataloader = DataLoader(train_data, sampler=train_sampler, batch_size=batch_size)\n",
    "\n",
    "test_data = TensorDataset(test_inputs, test_masks, torch.tensor(test_labels))\n",
    "test_sampler = SequentialSampler(test_data)\n",
    "test_dataloader = DataLoader(test_data, sampler=test_sampler, batch_size=batch_size)\n",
    "\n",
    "val_data = TensorDataset(val_inputs, val_masks, torch.tensor(val_labels))\n",
    "val_sampler = SequentialSampler(val_data)\n",
    "val_dataloader = DataLoader(val_data, sampler=val_sampler, batch_size=batch_size)"
   ],
   "metadata": {
    "collapsed": false,
    "pycharm": {
     "name": "#%%\n"
    }
   }
  },
  {
   "cell_type": "code",
   "execution_count": 48,
   "outputs": [],
   "source": [
    "torch.save(train_dataloader, config.result_file('train_dataloader.pt'))\n",
    "torch.save(test_dataloader, config.result_file('test_dataloader.pt'))\n",
    "torch.save(val_dataloader, config.result_file('val_dataloader.pt'))"
   ],
   "metadata": {
    "collapsed": false,
    "pycharm": {
     "name": "#%%\n"
    }
   }
  },
  {
   "cell_type": "markdown",
   "source": [
    "# load model and set parameters"
   ],
   "metadata": {
    "collapsed": false,
    "pycharm": {
     "name": "#%% md\n"
    }
   }
  },
  {
   "cell_type": "code",
   "execution_count": 65,
   "outputs": [
    {
     "name": "stderr",
     "output_type": "stream",
     "text": [
      "Some weights of the model checkpoint at roberta-base were not used when initializing RobertaForSequenceClassification: ['lm_head.bias', 'lm_head.layer_norm.bias', 'roberta.pooler.dense.bias', 'roberta.pooler.dense.weight', 'lm_head.dense.bias', 'lm_head.decoder.weight', 'lm_head.layer_norm.weight', 'lm_head.dense.weight']\n",
      "- This IS expected if you are initializing RobertaForSequenceClassification from the checkpoint of a model trained on another task or with another architecture (e.g. initializing a BertForSequenceClassification model from a BertForPreTraining model).\n",
      "- This IS NOT expected if you are initializing RobertaForSequenceClassification from the checkpoint of a model that you expect to be exactly identical (initializing a BertForSequenceClassification model from a BertForSequenceClassification model).\n",
      "Some weights of RobertaForSequenceClassification were not initialized from the model checkpoint at roberta-base and are newly initialized: ['classifier.dense.weight', 'classifier.out_proj.weight', 'classifier.dense.bias', 'classifier.out_proj.bias']\n",
      "You should probably TRAIN this model on a down-stream task to be able to use it for predictions and inference.\n"
     ]
    },
    {
     "data": {
      "text/plain": "RobertaForSequenceClassification(\n  (roberta): RobertaModel(\n    (embeddings): RobertaEmbeddings(\n      (word_embeddings): Embedding(50265, 768, padding_idx=1)\n      (position_embeddings): Embedding(514, 768, padding_idx=1)\n      (token_type_embeddings): Embedding(1, 768)\n      (LayerNorm): LayerNorm((768,), eps=1e-05, elementwise_affine=True)\n      (dropout): Dropout(p=0.1, inplace=False)\n    )\n    (encoder): RobertaEncoder(\n      (layer): ModuleList(\n        (0): RobertaLayer(\n          (attention): RobertaAttention(\n            (self): RobertaSelfAttention(\n              (query): Linear(in_features=768, out_features=768, bias=True)\n              (key): Linear(in_features=768, out_features=768, bias=True)\n              (value): Linear(in_features=768, out_features=768, bias=True)\n              (dropout): Dropout(p=0.1, inplace=False)\n            )\n            (output): RobertaSelfOutput(\n              (dense): Linear(in_features=768, out_features=768, bias=True)\n              (LayerNorm): LayerNorm((768,), eps=1e-05, elementwise_affine=True)\n              (dropout): Dropout(p=0.1, inplace=False)\n            )\n          )\n          (intermediate): RobertaIntermediate(\n            (dense): Linear(in_features=768, out_features=3072, bias=True)\n            (intermediate_act_fn): GELUActivation()\n          )\n          (output): RobertaOutput(\n            (dense): Linear(in_features=3072, out_features=768, bias=True)\n            (LayerNorm): LayerNorm((768,), eps=1e-05, elementwise_affine=True)\n            (dropout): Dropout(p=0.1, inplace=False)\n          )\n        )\n        (1): RobertaLayer(\n          (attention): RobertaAttention(\n            (self): RobertaSelfAttention(\n              (query): Linear(in_features=768, out_features=768, bias=True)\n              (key): Linear(in_features=768, out_features=768, bias=True)\n              (value): Linear(in_features=768, out_features=768, bias=True)\n              (dropout): Dropout(p=0.1, inplace=False)\n            )\n            (output): RobertaSelfOutput(\n              (dense): Linear(in_features=768, out_features=768, bias=True)\n              (LayerNorm): LayerNorm((768,), eps=1e-05, elementwise_affine=True)\n              (dropout): Dropout(p=0.1, inplace=False)\n            )\n          )\n          (intermediate): RobertaIntermediate(\n            (dense): Linear(in_features=768, out_features=3072, bias=True)\n            (intermediate_act_fn): GELUActivation()\n          )\n          (output): RobertaOutput(\n            (dense): Linear(in_features=3072, out_features=768, bias=True)\n            (LayerNorm): LayerNorm((768,), eps=1e-05, elementwise_affine=True)\n            (dropout): Dropout(p=0.1, inplace=False)\n          )\n        )\n        (2): RobertaLayer(\n          (attention): RobertaAttention(\n            (self): RobertaSelfAttention(\n              (query): Linear(in_features=768, out_features=768, bias=True)\n              (key): Linear(in_features=768, out_features=768, bias=True)\n              (value): Linear(in_features=768, out_features=768, bias=True)\n              (dropout): Dropout(p=0.1, inplace=False)\n            )\n            (output): RobertaSelfOutput(\n              (dense): Linear(in_features=768, out_features=768, bias=True)\n              (LayerNorm): LayerNorm((768,), eps=1e-05, elementwise_affine=True)\n              (dropout): Dropout(p=0.1, inplace=False)\n            )\n          )\n          (intermediate): RobertaIntermediate(\n            (dense): Linear(in_features=768, out_features=3072, bias=True)\n            (intermediate_act_fn): GELUActivation()\n          )\n          (output): RobertaOutput(\n            (dense): Linear(in_features=3072, out_features=768, bias=True)\n            (LayerNorm): LayerNorm((768,), eps=1e-05, elementwise_affine=True)\n            (dropout): Dropout(p=0.1, inplace=False)\n          )\n        )\n        (3): RobertaLayer(\n          (attention): RobertaAttention(\n            (self): RobertaSelfAttention(\n              (query): Linear(in_features=768, out_features=768, bias=True)\n              (key): Linear(in_features=768, out_features=768, bias=True)\n              (value): Linear(in_features=768, out_features=768, bias=True)\n              (dropout): Dropout(p=0.1, inplace=False)\n            )\n            (output): RobertaSelfOutput(\n              (dense): Linear(in_features=768, out_features=768, bias=True)\n              (LayerNorm): LayerNorm((768,), eps=1e-05, elementwise_affine=True)\n              (dropout): Dropout(p=0.1, inplace=False)\n            )\n          )\n          (intermediate): RobertaIntermediate(\n            (dense): Linear(in_features=768, out_features=3072, bias=True)\n            (intermediate_act_fn): GELUActivation()\n          )\n          (output): RobertaOutput(\n            (dense): Linear(in_features=3072, out_features=768, bias=True)\n            (LayerNorm): LayerNorm((768,), eps=1e-05, elementwise_affine=True)\n            (dropout): Dropout(p=0.1, inplace=False)\n          )\n        )\n        (4): RobertaLayer(\n          (attention): RobertaAttention(\n            (self): RobertaSelfAttention(\n              (query): Linear(in_features=768, out_features=768, bias=True)\n              (key): Linear(in_features=768, out_features=768, bias=True)\n              (value): Linear(in_features=768, out_features=768, bias=True)\n              (dropout): Dropout(p=0.1, inplace=False)\n            )\n            (output): RobertaSelfOutput(\n              (dense): Linear(in_features=768, out_features=768, bias=True)\n              (LayerNorm): LayerNorm((768,), eps=1e-05, elementwise_affine=True)\n              (dropout): Dropout(p=0.1, inplace=False)\n            )\n          )\n          (intermediate): RobertaIntermediate(\n            (dense): Linear(in_features=768, out_features=3072, bias=True)\n            (intermediate_act_fn): GELUActivation()\n          )\n          (output): RobertaOutput(\n            (dense): Linear(in_features=3072, out_features=768, bias=True)\n            (LayerNorm): LayerNorm((768,), eps=1e-05, elementwise_affine=True)\n            (dropout): Dropout(p=0.1, inplace=False)\n          )\n        )\n        (5): RobertaLayer(\n          (attention): RobertaAttention(\n            (self): RobertaSelfAttention(\n              (query): Linear(in_features=768, out_features=768, bias=True)\n              (key): Linear(in_features=768, out_features=768, bias=True)\n              (value): Linear(in_features=768, out_features=768, bias=True)\n              (dropout): Dropout(p=0.1, inplace=False)\n            )\n            (output): RobertaSelfOutput(\n              (dense): Linear(in_features=768, out_features=768, bias=True)\n              (LayerNorm): LayerNorm((768,), eps=1e-05, elementwise_affine=True)\n              (dropout): Dropout(p=0.1, inplace=False)\n            )\n          )\n          (intermediate): RobertaIntermediate(\n            (dense): Linear(in_features=768, out_features=3072, bias=True)\n            (intermediate_act_fn): GELUActivation()\n          )\n          (output): RobertaOutput(\n            (dense): Linear(in_features=3072, out_features=768, bias=True)\n            (LayerNorm): LayerNorm((768,), eps=1e-05, elementwise_affine=True)\n            (dropout): Dropout(p=0.1, inplace=False)\n          )\n        )\n        (6): RobertaLayer(\n          (attention): RobertaAttention(\n            (self): RobertaSelfAttention(\n              (query): Linear(in_features=768, out_features=768, bias=True)\n              (key): Linear(in_features=768, out_features=768, bias=True)\n              (value): Linear(in_features=768, out_features=768, bias=True)\n              (dropout): Dropout(p=0.1, inplace=False)\n            )\n            (output): RobertaSelfOutput(\n              (dense): Linear(in_features=768, out_features=768, bias=True)\n              (LayerNorm): LayerNorm((768,), eps=1e-05, elementwise_affine=True)\n              (dropout): Dropout(p=0.1, inplace=False)\n            )\n          )\n          (intermediate): RobertaIntermediate(\n            (dense): Linear(in_features=768, out_features=3072, bias=True)\n            (intermediate_act_fn): GELUActivation()\n          )\n          (output): RobertaOutput(\n            (dense): Linear(in_features=3072, out_features=768, bias=True)\n            (LayerNorm): LayerNorm((768,), eps=1e-05, elementwise_affine=True)\n            (dropout): Dropout(p=0.1, inplace=False)\n          )\n        )\n        (7): RobertaLayer(\n          (attention): RobertaAttention(\n            (self): RobertaSelfAttention(\n              (query): Linear(in_features=768, out_features=768, bias=True)\n              (key): Linear(in_features=768, out_features=768, bias=True)\n              (value): Linear(in_features=768, out_features=768, bias=True)\n              (dropout): Dropout(p=0.1, inplace=False)\n            )\n            (output): RobertaSelfOutput(\n              (dense): Linear(in_features=768, out_features=768, bias=True)\n              (LayerNorm): LayerNorm((768,), eps=1e-05, elementwise_affine=True)\n              (dropout): Dropout(p=0.1, inplace=False)\n            )\n          )\n          (intermediate): RobertaIntermediate(\n            (dense): Linear(in_features=768, out_features=3072, bias=True)\n            (intermediate_act_fn): GELUActivation()\n          )\n          (output): RobertaOutput(\n            (dense): Linear(in_features=3072, out_features=768, bias=True)\n            (LayerNorm): LayerNorm((768,), eps=1e-05, elementwise_affine=True)\n            (dropout): Dropout(p=0.1, inplace=False)\n          )\n        )\n        (8): RobertaLayer(\n          (attention): RobertaAttention(\n            (self): RobertaSelfAttention(\n              (query): Linear(in_features=768, out_features=768, bias=True)\n              (key): Linear(in_features=768, out_features=768, bias=True)\n              (value): Linear(in_features=768, out_features=768, bias=True)\n              (dropout): Dropout(p=0.1, inplace=False)\n            )\n            (output): RobertaSelfOutput(\n              (dense): Linear(in_features=768, out_features=768, bias=True)\n              (LayerNorm): LayerNorm((768,), eps=1e-05, elementwise_affine=True)\n              (dropout): Dropout(p=0.1, inplace=False)\n            )\n          )\n          (intermediate): RobertaIntermediate(\n            (dense): Linear(in_features=768, out_features=3072, bias=True)\n            (intermediate_act_fn): GELUActivation()\n          )\n          (output): RobertaOutput(\n            (dense): Linear(in_features=3072, out_features=768, bias=True)\n            (LayerNorm): LayerNorm((768,), eps=1e-05, elementwise_affine=True)\n            (dropout): Dropout(p=0.1, inplace=False)\n          )\n        )\n        (9): RobertaLayer(\n          (attention): RobertaAttention(\n            (self): RobertaSelfAttention(\n              (query): Linear(in_features=768, out_features=768, bias=True)\n              (key): Linear(in_features=768, out_features=768, bias=True)\n              (value): Linear(in_features=768, out_features=768, bias=True)\n              (dropout): Dropout(p=0.1, inplace=False)\n            )\n            (output): RobertaSelfOutput(\n              (dense): Linear(in_features=768, out_features=768, bias=True)\n              (LayerNorm): LayerNorm((768,), eps=1e-05, elementwise_affine=True)\n              (dropout): Dropout(p=0.1, inplace=False)\n            )\n          )\n          (intermediate): RobertaIntermediate(\n            (dense): Linear(in_features=768, out_features=3072, bias=True)\n            (intermediate_act_fn): GELUActivation()\n          )\n          (output): RobertaOutput(\n            (dense): Linear(in_features=3072, out_features=768, bias=True)\n            (LayerNorm): LayerNorm((768,), eps=1e-05, elementwise_affine=True)\n            (dropout): Dropout(p=0.1, inplace=False)\n          )\n        )\n        (10): RobertaLayer(\n          (attention): RobertaAttention(\n            (self): RobertaSelfAttention(\n              (query): Linear(in_features=768, out_features=768, bias=True)\n              (key): Linear(in_features=768, out_features=768, bias=True)\n              (value): Linear(in_features=768, out_features=768, bias=True)\n              (dropout): Dropout(p=0.1, inplace=False)\n            )\n            (output): RobertaSelfOutput(\n              (dense): Linear(in_features=768, out_features=768, bias=True)\n              (LayerNorm): LayerNorm((768,), eps=1e-05, elementwise_affine=True)\n              (dropout): Dropout(p=0.1, inplace=False)\n            )\n          )\n          (intermediate): RobertaIntermediate(\n            (dense): Linear(in_features=768, out_features=3072, bias=True)\n            (intermediate_act_fn): GELUActivation()\n          )\n          (output): RobertaOutput(\n            (dense): Linear(in_features=3072, out_features=768, bias=True)\n            (LayerNorm): LayerNorm((768,), eps=1e-05, elementwise_affine=True)\n            (dropout): Dropout(p=0.1, inplace=False)\n          )\n        )\n        (11): RobertaLayer(\n          (attention): RobertaAttention(\n            (self): RobertaSelfAttention(\n              (query): Linear(in_features=768, out_features=768, bias=True)\n              (key): Linear(in_features=768, out_features=768, bias=True)\n              (value): Linear(in_features=768, out_features=768, bias=True)\n              (dropout): Dropout(p=0.1, inplace=False)\n            )\n            (output): RobertaSelfOutput(\n              (dense): Linear(in_features=768, out_features=768, bias=True)\n              (LayerNorm): LayerNorm((768,), eps=1e-05, elementwise_affine=True)\n              (dropout): Dropout(p=0.1, inplace=False)\n            )\n          )\n          (intermediate): RobertaIntermediate(\n            (dense): Linear(in_features=768, out_features=3072, bias=True)\n            (intermediate_act_fn): GELUActivation()\n          )\n          (output): RobertaOutput(\n            (dense): Linear(in_features=3072, out_features=768, bias=True)\n            (LayerNorm): LayerNorm((768,), eps=1e-05, elementwise_affine=True)\n            (dropout): Dropout(p=0.1, inplace=False)\n          )\n        )\n      )\n    )\n  )\n  (classifier): RobertaClassificationHead(\n    (dense): Linear(in_features=768, out_features=768, bias=True)\n    (dropout): Dropout(p=0.1, inplace=False)\n    (out_proj): Linear(in_features=768, out_features=7, bias=True)\n  )\n)"
     },
     "execution_count": 65,
     "metadata": {},
     "output_type": "execute_result"
    }
   ],
   "source": [
    "num_labels = len(labels[0])\n",
    "model = RobertaForSequenceClassification.from_pretrained('roberta-base', num_labels=num_labels)\n",
    "device = torch.device('cuda' if torch.cuda.is_available() else 'cpu')\n",
    "model.to(device)"
   ],
   "metadata": {
    "collapsed": false,
    "pycharm": {
     "name": "#%%\n"
    }
   }
  },
  {
   "cell_type": "code",
   "execution_count": 66,
   "outputs": [],
   "source": [
    "param_optimizer = list(model.named_parameters())\n",
    "no_decay = ['bias', 'LayerNorm.bias', 'LayerNorm.weight', 'gamma', 'beta']\n",
    "optimizer_grouped_parameters = [\n",
    "    {'params': [p for n, p in param_optimizer if not any(nd in n for nd in no_decay)], 'weight_decay_rate': 0.01},\n",
    "    {'params': [p for n, p in param_optimizer if any(nd in n for nd in no_decay)], 'weight_decay_rate': 0.0}\n",
    "]"
   ],
   "metadata": {
    "collapsed": false,
    "pycharm": {
     "name": "#%%\n"
    }
   }
  },
  {
   "cell_type": "code",
   "execution_count": 67,
   "outputs": [],
   "source": [
    "param_optimizer = list(model.named_parameters())\n",
    "no_decay = ['bias', 'LayerNorm.bias', 'LayerNorm.weight', 'gamma', 'beta']\n",
    "optimizer_grouped_parameters = [\n",
    "    {'params': [p for n, p in param_optimizer if not any(nd in n for nd in no_decay)], 'weight_decay_rate': 0.01},\n",
    "    {'params': [p for n, p in param_optimizer if any(nd in n for nd in no_decay)], 'weight_decay_rate': 0.0}\n",
    "]\n",
    "optimizer = torch.optim.Adam(optimizer_grouped_parameters, lr=2e-5, eps=1e-8)"
   ],
   "metadata": {
    "collapsed": false,
    "pycharm": {
     "name": "#%%\n"
    }
   }
  },
  {
   "cell_type": "markdown",
   "source": [
    "# train the model"
   ],
   "metadata": {
    "collapsed": false,
    "pycharm": {
     "name": "#%% md\n"
    }
   }
  },
  {
   "cell_type": "code",
   "execution_count": 68,
   "outputs": [],
   "source": [
    "train_loss_set = []\n",
    "epochs = 4"
   ],
   "metadata": {
    "collapsed": false,
    "pycharm": {
     "name": "#%%\n"
    }
   }
  },
  {
   "cell_type": "code",
   "execution_count": 70,
   "outputs": [
    {
     "name": "stderr",
     "output_type": "stream",
     "text": [
      "Epoch:   0%|          | 0/4 [00:00<?, ?it/s]"
     ]
    },
    {
     "name": "stdout",
     "output_type": "stream",
     "text": [
      "Train loss: 0.3183755168208369\n"
     ]
    },
    {
     "name": "stderr",
     "output_type": "stream",
     "text": [
      "Epoch:  25%|██▌       | 1/4 [00:04<00:13,  4.66s/it]"
     ]
    },
    {
     "name": "stdout",
     "output_type": "stream",
     "text": [
      "F1 Validation Accuracy:  66.19047619047619\n",
      "Flat Validation Accuracy:  57.48792270531401\n",
      "Train loss: 0.25315616914519556\n"
     ]
    },
    {
     "name": "stderr",
     "output_type": "stream",
     "text": [
      "Epoch:  50%|█████     | 2/4 [00:09<00:09,  4.59s/it]"
     ]
    },
    {
     "name": "stdout",
     "output_type": "stream",
     "text": [
      "F1 Validation Accuracy:  72.72727272727273\n",
      "Flat Validation Accuracy:  61.35265700483091\n",
      "Train loss: 0.1996975811543288\n"
     ]
    },
    {
     "name": "stderr",
     "output_type": "stream",
     "text": [
      "Epoch:  75%|███████▌  | 3/4 [00:13<00:04,  4.59s/it]"
     ]
    },
    {
     "name": "stdout",
     "output_type": "stream",
     "text": [
      "F1 Validation Accuracy:  85.77777777777777\n",
      "Flat Validation Accuracy:  76.81159420289855\n",
      "Train loss: 0.15959514567145594\n"
     ]
    },
    {
     "name": "stderr",
     "output_type": "stream",
     "text": [
      "Epoch: 100%|██████████| 4/4 [00:18<00:00,  4.60s/it]"
     ]
    },
    {
     "name": "stdout",
     "output_type": "stream",
     "text": [
      "F1 Validation Accuracy:  85.84070796460178\n",
      "Flat Validation Accuracy:  76.81159420289855\n"
     ]
    },
    {
     "name": "stderr",
     "output_type": "stream",
     "text": [
      "\n"
     ]
    }
   ],
   "source": [
    "for _ in trange(epochs, desc=\"Epoch\"):\n",
    "    model.train()\n",
    "    tr_loss = 0\n",
    "    nb_tr_examples, nb_tr_steps = 0, 0\n",
    "\n",
    "    for step, batch in enumerate(train_dataloader):\n",
    "        batch = tuple(t.to(device) for t in batch)\n",
    "        b_input_ids, b_input_mask, b_labels = batch\n",
    "        optimizer.zero_grad()\n",
    "\n",
    "        outputs = model(b_input_ids, token_type_ids=None, attention_mask=b_input_mask)\n",
    "        logits = outputs[0]\n",
    "        loss_func = BCEWithLogitsLoss()\n",
    "        loss = loss_func(logits.view(-1,num_labels),b_labels.type_as(logits).view(-1,num_labels))\n",
    "        train_loss_set.append(loss.item())\n",
    "\n",
    "        loss.backward()\n",
    "        optimizer.step()\n",
    "        tr_loss += loss.item()\n",
    "        nb_tr_examples += b_input_ids.size(0)\n",
    "        nb_tr_steps += 1\n",
    "\n",
    "    print(\"Train loss: {}\".format(tr_loss/nb_tr_steps))\n",
    "\n",
    "    ###############################################################################\n",
    "\n",
    "    model.eval()\n",
    "    logit_preds,true_labels,pred_labels,tokenized_texts = [],[],[],[]\n",
    "    for i, batch in enumerate(val_dataloader):\n",
    "        batch = tuple(t.to(device) for t in batch)\n",
    "        b_input_ids, b_input_mask, b_labels = batch\n",
    "        with torch.no_grad():\n",
    "            outs = model(b_input_ids, token_type_ids=None, attention_mask=b_input_mask)\n",
    "            b_logit_pred = outs[0]\n",
    "            pred_label = torch.sigmoid(b_logit_pred)\n",
    "\n",
    "            b_logit_pred = b_logit_pred.detach().cpu().numpy()\n",
    "            pred_label = pred_label.cpu().numpy()\n",
    "            b_labels = b_labels.cpu().numpy()\n",
    "\n",
    "        tokenized_texts.append(b_input_ids)\n",
    "        logit_preds.append(b_logit_pred)\n",
    "        true_labels.append(b_labels)\n",
    "        pred_labels.append(pred_label)\n",
    "\n",
    "    pred_labels = [item for sublist in pred_labels for item in sublist]\n",
    "    true_labels = [item for sublist in true_labels for item in sublist]\n",
    "\n",
    "    threshold = 0.50\n",
    "    pred_bools = [pl>threshold for pl in pred_labels]\n",
    "    true_bools = [tl==1 for tl in true_labels]\n",
    "    val_f1_accuracy = f1_score(true_bools,pred_bools,average='micro')*100\n",
    "    val_flat_accuracy = accuracy_score(true_bools, pred_bools)*100\n",
    "\n",
    "    print('F1 Validation Accuracy: ', val_f1_accuracy)\n",
    "    print('Flat Validation Accuracy: ', val_flat_accuracy)"
   ],
   "metadata": {
    "collapsed": false,
    "pycharm": {
     "name": "#%%\n"
    }
   }
  },
  {
   "cell_type": "code",
   "execution_count": null,
   "outputs": [],
   "source": [
    "torch.save(model, config.result_file('roBERTa_MultLabel_class_model.pt'))"
   ],
   "metadata": {
    "collapsed": false,
    "pycharm": {
     "name": "#%%\n"
    }
   }
  },
  {
   "cell_type": "markdown",
   "source": [
    "# Test the model"
   ],
   "metadata": {
    "collapsed": false,
    "pycharm": {
     "name": "#%% md\n"
    }
   }
  },
  {
   "cell_type": "code",
   "execution_count": 71,
   "outputs": [],
   "source": [
    "model = torch.load(config.result_file('roBERTa_MultLabel_class_model.pt'))"
   ],
   "metadata": {
    "collapsed": false,
    "pycharm": {
     "name": "#%%\n"
    }
   }
  },
  {
   "cell_type": "code",
   "execution_count": 72,
   "outputs": [],
   "source": [
    "sentence = \"I am a student at the University of Toronto\""
   ],
   "metadata": {
    "collapsed": false,
    "pycharm": {
     "name": "#%%\n"
    }
   }
  },
  {
   "cell_type": "code",
   "execution_count": 73,
   "outputs": [],
   "source": [
    "tokenized_sentence = tokenizer.tokenize(sentence)"
   ],
   "metadata": {
    "collapsed": false,
    "pycharm": {
     "name": "#%%\n"
    }
   }
  },
  {
   "cell_type": "code",
   "execution_count": 74,
   "outputs": [],
   "source": [
    "indexed_tokens = tokenizer.convert_tokens_to_ids(tokenized_sentence)"
   ],
   "metadata": {
    "collapsed": false,
    "pycharm": {
     "name": "#%%\n"
    }
   }
  },
  {
   "cell_type": "code",
   "execution_count": 75,
   "outputs": [],
   "source": [
    "tokens_tensor = torch.tensor([indexed_tokens])"
   ],
   "metadata": {
    "collapsed": false,
    "pycharm": {
     "name": "#%%\n"
    }
   }
  },
  {
   "cell_type": "code",
   "execution_count": 76,
   "outputs": [
    {
     "data": {
      "text/plain": "RobertaForSequenceClassification(\n  (roberta): RobertaModel(\n    (embeddings): RobertaEmbeddings(\n      (word_embeddings): Embedding(50265, 768, padding_idx=1)\n      (position_embeddings): Embedding(514, 768, padding_idx=1)\n      (token_type_embeddings): Embedding(1, 768)\n      (LayerNorm): LayerNorm((768,), eps=1e-05, elementwise_affine=True)\n      (dropout): Dropout(p=0.1, inplace=False)\n    )\n    (encoder): RobertaEncoder(\n      (layer): ModuleList(\n        (0): RobertaLayer(\n          (attention): RobertaAttention(\n            (self): RobertaSelfAttention(\n              (query): Linear(in_features=768, out_features=768, bias=True)\n              (key): Linear(in_features=768, out_features=768, bias=True)\n              (value): Linear(in_features=768, out_features=768, bias=True)\n              (dropout): Dropout(p=0.1, inplace=False)\n            )\n            (output): RobertaSelfOutput(\n              (dense): Linear(in_features=768, out_features=768, bias=True)\n              (LayerNorm): LayerNorm((768,), eps=1e-05, elementwise_affine=True)\n              (dropout): Dropout(p=0.1, inplace=False)\n            )\n          )\n          (intermediate): RobertaIntermediate(\n            (dense): Linear(in_features=768, out_features=3072, bias=True)\n            (intermediate_act_fn): GELUActivation()\n          )\n          (output): RobertaOutput(\n            (dense): Linear(in_features=3072, out_features=768, bias=True)\n            (LayerNorm): LayerNorm((768,), eps=1e-05, elementwise_affine=True)\n            (dropout): Dropout(p=0.1, inplace=False)\n          )\n        )\n        (1): RobertaLayer(\n          (attention): RobertaAttention(\n            (self): RobertaSelfAttention(\n              (query): Linear(in_features=768, out_features=768, bias=True)\n              (key): Linear(in_features=768, out_features=768, bias=True)\n              (value): Linear(in_features=768, out_features=768, bias=True)\n              (dropout): Dropout(p=0.1, inplace=False)\n            )\n            (output): RobertaSelfOutput(\n              (dense): Linear(in_features=768, out_features=768, bias=True)\n              (LayerNorm): LayerNorm((768,), eps=1e-05, elementwise_affine=True)\n              (dropout): Dropout(p=0.1, inplace=False)\n            )\n          )\n          (intermediate): RobertaIntermediate(\n            (dense): Linear(in_features=768, out_features=3072, bias=True)\n            (intermediate_act_fn): GELUActivation()\n          )\n          (output): RobertaOutput(\n            (dense): Linear(in_features=3072, out_features=768, bias=True)\n            (LayerNorm): LayerNorm((768,), eps=1e-05, elementwise_affine=True)\n            (dropout): Dropout(p=0.1, inplace=False)\n          )\n        )\n        (2): RobertaLayer(\n          (attention): RobertaAttention(\n            (self): RobertaSelfAttention(\n              (query): Linear(in_features=768, out_features=768, bias=True)\n              (key): Linear(in_features=768, out_features=768, bias=True)\n              (value): Linear(in_features=768, out_features=768, bias=True)\n              (dropout): Dropout(p=0.1, inplace=False)\n            )\n            (output): RobertaSelfOutput(\n              (dense): Linear(in_features=768, out_features=768, bias=True)\n              (LayerNorm): LayerNorm((768,), eps=1e-05, elementwise_affine=True)\n              (dropout): Dropout(p=0.1, inplace=False)\n            )\n          )\n          (intermediate): RobertaIntermediate(\n            (dense): Linear(in_features=768, out_features=3072, bias=True)\n            (intermediate_act_fn): GELUActivation()\n          )\n          (output): RobertaOutput(\n            (dense): Linear(in_features=3072, out_features=768, bias=True)\n            (LayerNorm): LayerNorm((768,), eps=1e-05, elementwise_affine=True)\n            (dropout): Dropout(p=0.1, inplace=False)\n          )\n        )\n        (3): RobertaLayer(\n          (attention): RobertaAttention(\n            (self): RobertaSelfAttention(\n              (query): Linear(in_features=768, out_features=768, bias=True)\n              (key): Linear(in_features=768, out_features=768, bias=True)\n              (value): Linear(in_features=768, out_features=768, bias=True)\n              (dropout): Dropout(p=0.1, inplace=False)\n            )\n            (output): RobertaSelfOutput(\n              (dense): Linear(in_features=768, out_features=768, bias=True)\n              (LayerNorm): LayerNorm((768,), eps=1e-05, elementwise_affine=True)\n              (dropout): Dropout(p=0.1, inplace=False)\n            )\n          )\n          (intermediate): RobertaIntermediate(\n            (dense): Linear(in_features=768, out_features=3072, bias=True)\n            (intermediate_act_fn): GELUActivation()\n          )\n          (output): RobertaOutput(\n            (dense): Linear(in_features=3072, out_features=768, bias=True)\n            (LayerNorm): LayerNorm((768,), eps=1e-05, elementwise_affine=True)\n            (dropout): Dropout(p=0.1, inplace=False)\n          )\n        )\n        (4): RobertaLayer(\n          (attention): RobertaAttention(\n            (self): RobertaSelfAttention(\n              (query): Linear(in_features=768, out_features=768, bias=True)\n              (key): Linear(in_features=768, out_features=768, bias=True)\n              (value): Linear(in_features=768, out_features=768, bias=True)\n              (dropout): Dropout(p=0.1, inplace=False)\n            )\n            (output): RobertaSelfOutput(\n              (dense): Linear(in_features=768, out_features=768, bias=True)\n              (LayerNorm): LayerNorm((768,), eps=1e-05, elementwise_affine=True)\n              (dropout): Dropout(p=0.1, inplace=False)\n            )\n          )\n          (intermediate): RobertaIntermediate(\n            (dense): Linear(in_features=768, out_features=3072, bias=True)\n            (intermediate_act_fn): GELUActivation()\n          )\n          (output): RobertaOutput(\n            (dense): Linear(in_features=3072, out_features=768, bias=True)\n            (LayerNorm): LayerNorm((768,), eps=1e-05, elementwise_affine=True)\n            (dropout): Dropout(p=0.1, inplace=False)\n          )\n        )\n        (5): RobertaLayer(\n          (attention): RobertaAttention(\n            (self): RobertaSelfAttention(\n              (query): Linear(in_features=768, out_features=768, bias=True)\n              (key): Linear(in_features=768, out_features=768, bias=True)\n              (value): Linear(in_features=768, out_features=768, bias=True)\n              (dropout): Dropout(p=0.1, inplace=False)\n            )\n            (output): RobertaSelfOutput(\n              (dense): Linear(in_features=768, out_features=768, bias=True)\n              (LayerNorm): LayerNorm((768,), eps=1e-05, elementwise_affine=True)\n              (dropout): Dropout(p=0.1, inplace=False)\n            )\n          )\n          (intermediate): RobertaIntermediate(\n            (dense): Linear(in_features=768, out_features=3072, bias=True)\n            (intermediate_act_fn): GELUActivation()\n          )\n          (output): RobertaOutput(\n            (dense): Linear(in_features=3072, out_features=768, bias=True)\n            (LayerNorm): LayerNorm((768,), eps=1e-05, elementwise_affine=True)\n            (dropout): Dropout(p=0.1, inplace=False)\n          )\n        )\n        (6): RobertaLayer(\n          (attention): RobertaAttention(\n            (self): RobertaSelfAttention(\n              (query): Linear(in_features=768, out_features=768, bias=True)\n              (key): Linear(in_features=768, out_features=768, bias=True)\n              (value): Linear(in_features=768, out_features=768, bias=True)\n              (dropout): Dropout(p=0.1, inplace=False)\n            )\n            (output): RobertaSelfOutput(\n              (dense): Linear(in_features=768, out_features=768, bias=True)\n              (LayerNorm): LayerNorm((768,), eps=1e-05, elementwise_affine=True)\n              (dropout): Dropout(p=0.1, inplace=False)\n            )\n          )\n          (intermediate): RobertaIntermediate(\n            (dense): Linear(in_features=768, out_features=3072, bias=True)\n            (intermediate_act_fn): GELUActivation()\n          )\n          (output): RobertaOutput(\n            (dense): Linear(in_features=3072, out_features=768, bias=True)\n            (LayerNorm): LayerNorm((768,), eps=1e-05, elementwise_affine=True)\n            (dropout): Dropout(p=0.1, inplace=False)\n          )\n        )\n        (7): RobertaLayer(\n          (attention): RobertaAttention(\n            (self): RobertaSelfAttention(\n              (query): Linear(in_features=768, out_features=768, bias=True)\n              (key): Linear(in_features=768, out_features=768, bias=True)\n              (value): Linear(in_features=768, out_features=768, bias=True)\n              (dropout): Dropout(p=0.1, inplace=False)\n            )\n            (output): RobertaSelfOutput(\n              (dense): Linear(in_features=768, out_features=768, bias=True)\n              (LayerNorm): LayerNorm((768,), eps=1e-05, elementwise_affine=True)\n              (dropout): Dropout(p=0.1, inplace=False)\n            )\n          )\n          (intermediate): RobertaIntermediate(\n            (dense): Linear(in_features=768, out_features=3072, bias=True)\n            (intermediate_act_fn): GELUActivation()\n          )\n          (output): RobertaOutput(\n            (dense): Linear(in_features=3072, out_features=768, bias=True)\n            (LayerNorm): LayerNorm((768,), eps=1e-05, elementwise_affine=True)\n            (dropout): Dropout(p=0.1, inplace=False)\n          )\n        )\n        (8): RobertaLayer(\n          (attention): RobertaAttention(\n            (self): RobertaSelfAttention(\n              (query): Linear(in_features=768, out_features=768, bias=True)\n              (key): Linear(in_features=768, out_features=768, bias=True)\n              (value): Linear(in_features=768, out_features=768, bias=True)\n              (dropout): Dropout(p=0.1, inplace=False)\n            )\n            (output): RobertaSelfOutput(\n              (dense): Linear(in_features=768, out_features=768, bias=True)\n              (LayerNorm): LayerNorm((768,), eps=1e-05, elementwise_affine=True)\n              (dropout): Dropout(p=0.1, inplace=False)\n            )\n          )\n          (intermediate): RobertaIntermediate(\n            (dense): Linear(in_features=768, out_features=3072, bias=True)\n            (intermediate_act_fn): GELUActivation()\n          )\n          (output): RobertaOutput(\n            (dense): Linear(in_features=3072, out_features=768, bias=True)\n            (LayerNorm): LayerNorm((768,), eps=1e-05, elementwise_affine=True)\n            (dropout): Dropout(p=0.1, inplace=False)\n          )\n        )\n        (9): RobertaLayer(\n          (attention): RobertaAttention(\n            (self): RobertaSelfAttention(\n              (query): Linear(in_features=768, out_features=768, bias=True)\n              (key): Linear(in_features=768, out_features=768, bias=True)\n              (value): Linear(in_features=768, out_features=768, bias=True)\n              (dropout): Dropout(p=0.1, inplace=False)\n            )\n            (output): RobertaSelfOutput(\n              (dense): Linear(in_features=768, out_features=768, bias=True)\n              (LayerNorm): LayerNorm((768,), eps=1e-05, elementwise_affine=True)\n              (dropout): Dropout(p=0.1, inplace=False)\n            )\n          )\n          (intermediate): RobertaIntermediate(\n            (dense): Linear(in_features=768, out_features=3072, bias=True)\n            (intermediate_act_fn): GELUActivation()\n          )\n          (output): RobertaOutput(\n            (dense): Linear(in_features=3072, out_features=768, bias=True)\n            (LayerNorm): LayerNorm((768,), eps=1e-05, elementwise_affine=True)\n            (dropout): Dropout(p=0.1, inplace=False)\n          )\n        )\n        (10): RobertaLayer(\n          (attention): RobertaAttention(\n            (self): RobertaSelfAttention(\n              (query): Linear(in_features=768, out_features=768, bias=True)\n              (key): Linear(in_features=768, out_features=768, bias=True)\n              (value): Linear(in_features=768, out_features=768, bias=True)\n              (dropout): Dropout(p=0.1, inplace=False)\n            )\n            (output): RobertaSelfOutput(\n              (dense): Linear(in_features=768, out_features=768, bias=True)\n              (LayerNorm): LayerNorm((768,), eps=1e-05, elementwise_affine=True)\n              (dropout): Dropout(p=0.1, inplace=False)\n            )\n          )\n          (intermediate): RobertaIntermediate(\n            (dense): Linear(in_features=768, out_features=3072, bias=True)\n            (intermediate_act_fn): GELUActivation()\n          )\n          (output): RobertaOutput(\n            (dense): Linear(in_features=3072, out_features=768, bias=True)\n            (LayerNorm): LayerNorm((768,), eps=1e-05, elementwise_affine=True)\n            (dropout): Dropout(p=0.1, inplace=False)\n          )\n        )\n        (11): RobertaLayer(\n          (attention): RobertaAttention(\n            (self): RobertaSelfAttention(\n              (query): Linear(in_features=768, out_features=768, bias=True)\n              (key): Linear(in_features=768, out_features=768, bias=True)\n              (value): Linear(in_features=768, out_features=768, bias=True)\n              (dropout): Dropout(p=0.1, inplace=False)\n            )\n            (output): RobertaSelfOutput(\n              (dense): Linear(in_features=768, out_features=768, bias=True)\n              (LayerNorm): LayerNorm((768,), eps=1e-05, elementwise_affine=True)\n              (dropout): Dropout(p=0.1, inplace=False)\n            )\n          )\n          (intermediate): RobertaIntermediate(\n            (dense): Linear(in_features=768, out_features=3072, bias=True)\n            (intermediate_act_fn): GELUActivation()\n          )\n          (output): RobertaOutput(\n            (dense): Linear(in_features=3072, out_features=768, bias=True)\n            (LayerNorm): LayerNorm((768,), eps=1e-05, elementwise_affine=True)\n            (dropout): Dropout(p=0.1, inplace=False)\n          )\n        )\n      )\n    )\n  )\n  (classifier): RobertaClassificationHead(\n    (dense): Linear(in_features=768, out_features=768, bias=True)\n    (dropout): Dropout(p=0.1, inplace=False)\n    (out_proj): Linear(in_features=768, out_features=7, bias=True)\n  )\n)"
     },
     "execution_count": 76,
     "metadata": {},
     "output_type": "execute_result"
    }
   ],
   "source": [
    "model.eval()"
   ],
   "metadata": {
    "collapsed": false,
    "pycharm": {
     "name": "#%%\n"
    }
   }
  },
  {
   "cell_type": "code",
   "execution_count": 77,
   "outputs": [],
   "source": [
    "logit_preds,true_labels,pred_labels,tokenized_texts = [],[],[],[]\n",
    "\n",
    "for i, batch in enumerate(test_dataloader):\n",
    "    batch = tuple(t.to(device) for t in batch)\n",
    "    b_input_ids, b_input_mask, b_labels = batch\n",
    "    with torch.no_grad():\n",
    "        outs = model(b_input_ids, token_type_ids=None, attention_mask=b_input_mask)\n",
    "        b_logit_pred = outs[0]\n",
    "        pred_label = torch.sigmoid(b_logit_pred)\n",
    "\n",
    "        b_logit_pred = b_logit_pred.detach().cpu().numpy()\n",
    "        pred_label = pred_label.cpu().numpy()\n",
    "        b_labels = b_labels.cpu().numpy()\n",
    "\n",
    "    tokenized_texts.append(b_input_ids)\n",
    "    logit_preds.append(b_logit_pred)\n",
    "    true_labels.append(b_labels)\n",
    "    pred_labels.append(pred_label)\n",
    "\n",
    "tokenized_texts = [item for sublist in tokenized_texts for item in sublist]\n",
    "pred_labels = [item for sublist in pred_labels for item in sublist]\n",
    "true_labels = [item for sublist in true_labels for item in sublist]\n",
    "true_bools = [tl==1 for tl in true_labels]"
   ],
   "metadata": {
    "collapsed": false,
    "pycharm": {
     "name": "#%%\n"
    }
   }
  },
  {
   "cell_type": "code",
   "execution_count": 78,
   "outputs": [
    {
     "name": "stdout",
     "output_type": "stream",
     "text": [
      "Test F1 Accuracy:  0.7833333333333333\n",
      "Test Flat Accuracy:  0.7130434782608696 \n",
      "\n",
      "                     precision    recall  f1-score   support\n",
      "\n",
      "       type.ableism       0.00      0.00      0.00         2\n",
      "    type.homophobic       1.00      0.29      0.44         7\n",
      "  type.intellectual       0.81      0.76      0.79        34\n",
      "        type.racist       0.00      0.00      0.00         2\n",
      "        type.sexist       1.00      0.50      0.67        28\n",
      "type.sex_harassment       0.83      0.93      0.87        56\n",
      "   type.transphobic       0.00      0.00      0.00         0\n",
      "\n",
      "          micro avg       0.85      0.73      0.78       129\n",
      "          macro avg       0.52      0.35      0.40       129\n",
      "       weighted avg       0.84      0.73      0.76       129\n",
      "        samples avg       0.81      0.76      0.78       129\n",
      "\n"
     ]
    },
    {
     "name": "stderr",
     "output_type": "stream",
     "text": [
      "C:\\Users\\Tobias\\anaconda3\\envs\\HateyBot\\lib\\site-packages\\sklearn\\metrics\\_classification.py:1334: UndefinedMetricWarning: Precision and F-score are ill-defined and being set to 0.0 in labels with no predicted samples. Use `zero_division` parameter to control this behavior.\n",
      "  _warn_prf(average, modifier, msg_start, len(result))\n",
      "C:\\Users\\Tobias\\anaconda3\\envs\\HateyBot\\lib\\site-packages\\sklearn\\metrics\\_classification.py:1334: UndefinedMetricWarning: Recall and F-score are ill-defined and being set to 0.0 in labels with no true samples. Use `zero_division` parameter to control this behavior.\n",
      "  _warn_prf(average, modifier, msg_start, len(result))\n",
      "C:\\Users\\Tobias\\anaconda3\\envs\\HateyBot\\lib\\site-packages\\sklearn\\metrics\\_classification.py:1334: UndefinedMetricWarning: Precision and F-score are ill-defined and being set to 0.0 in samples with no predicted labels. Use `zero_division` parameter to control this behavior.\n",
      "  _warn_prf(average, modifier, msg_start, len(result))\n"
     ]
    }
   ],
   "source": [
    "pred_bools = [pl>0.50 for pl in pred_labels]\n",
    "\n",
    "print('Test F1 Accuracy: ', f1_score(true_bools, pred_bools,average='micro'))\n",
    "print('Test Flat Accuracy: ', accuracy_score(true_bools, pred_bools),'\\n')\n",
    "clf_report = classification_report(true_bools,pred_bools,target_names=label_columns)\n",
    "print(clf_report)"
   ],
   "metadata": {
    "collapsed": false,
    "pycharm": {
     "name": "#%%\n"
    }
   }
  },
  {
   "cell_type": "code",
   "execution_count": 79,
   "outputs": [
    {
     "name": "stdout",
     "output_type": "stream",
     "text": [
      "{0: 'type.ableism', 1: 'type.homophobic', 2: 'type.intellectual', 3: 'type.racist', 4: 'type.sexist', 5: 'type.sex_harassment'}\n"
     ]
    }
   ],
   "source": [
    "idx2label = dict(zip(range(6),label_columns))\n",
    "print(idx2label)"
   ],
   "metadata": {
    "collapsed": false,
    "pycharm": {
     "name": "#%%\n"
    }
   }
  },
  {
   "cell_type": "code",
   "execution_count": 80,
   "outputs": [],
   "source": [
    "true_label_idxs, pred_label_idxs=[],[]\n",
    "for vals in true_bools:\n",
    "    true_label_idxs.append(np.where(vals)[0].flatten().tolist())\n",
    "for vals in pred_bools:\n",
    "    pred_label_idxs.append(np.where(vals)[0].flatten().tolist())"
   ],
   "metadata": {
    "collapsed": false,
    "pycharm": {
     "name": "#%%\n"
    }
   }
  },
  {
   "cell_type": "code",
   "execution_count": 81,
   "outputs": [],
   "source": [
    "true_label_texts, pred_label_texts = [], []\n",
    "for vals in true_label_idxs:\n",
    "    if vals:\n",
    "        true_label_texts.append([idx2label[val] for val in vals])\n",
    "    else:\n",
    "        true_label_texts.append(vals)\n",
    "\n",
    "for vals in pred_label_idxs:\n",
    "    if vals:\n",
    "        pred_label_texts.append([idx2label[val] for val in vals])\n",
    "    else:\n",
    "        pred_label_texts.append(vals)"
   ],
   "metadata": {
    "collapsed": false,
    "pycharm": {
     "name": "#%%\n"
    }
   }
  },
  {
   "cell_type": "code",
   "execution_count": 82,
   "outputs": [],
   "source": [
    "comment_texts = [tokenizer.decode(text,skip_special_tokens=True,clean_up_tokenization_spaces=False) for text in tokenized_texts]"
   ],
   "metadata": {
    "collapsed": false,
    "pycharm": {
     "name": "#%%\n"
    }
   }
  },
  {
   "cell_type": "code",
   "execution_count": 83,
   "outputs": [
    {
     "data": {
      "text/plain": "                                        comment_text  \\\n0  Please go on. are you a man or a woman Would y...   \n1  Oh, i like sex. because that is what a blowjob...   \n2  Why do you want my pussy? i wonder about life ...   \n3  You are sure? tell me the time bitch Can you e...   \n4  I have told you before, I do not care about na...   \n\n                          true_labels                         pred_labels  \n0                       [type.sexist]                                  []  \n1               [type.sex_harassment]               [type.sex_harassment]  \n2  [type.sexist, type.sex_harassment]               [type.sex_harassment]  \n3  [type.sexist, type.sex_harassment]  [type.sexist, type.sex_harassment]  \n4                       [type.racist]                 [type.intellectual]  ",
      "text/html": "<div>\n<style scoped>\n    .dataframe tbody tr th:only-of-type {\n        vertical-align: middle;\n    }\n\n    .dataframe tbody tr th {\n        vertical-align: top;\n    }\n\n    .dataframe thead th {\n        text-align: right;\n    }\n</style>\n<table border=\"1\" class=\"dataframe\">\n  <thead>\n    <tr style=\"text-align: right;\">\n      <th></th>\n      <th>comment_text</th>\n      <th>true_labels</th>\n      <th>pred_labels</th>\n    </tr>\n  </thead>\n  <tbody>\n    <tr>\n      <th>0</th>\n      <td>Please go on. are you a man or a woman Would y...</td>\n      <td>[type.sexist]</td>\n      <td>[]</td>\n    </tr>\n    <tr>\n      <th>1</th>\n      <td>Oh, i like sex. because that is what a blowjob...</td>\n      <td>[type.sex_harassment]</td>\n      <td>[type.sex_harassment]</td>\n    </tr>\n    <tr>\n      <th>2</th>\n      <td>Why do you want my pussy? i wonder about life ...</td>\n      <td>[type.sexist, type.sex_harassment]</td>\n      <td>[type.sex_harassment]</td>\n    </tr>\n    <tr>\n      <th>3</th>\n      <td>You are sure? tell me the time bitch Can you e...</td>\n      <td>[type.sexist, type.sex_harassment]</td>\n      <td>[type.sexist, type.sex_harassment]</td>\n    </tr>\n    <tr>\n      <th>4</th>\n      <td>I have told you before, I do not care about na...</td>\n      <td>[type.racist]</td>\n      <td>[type.intellectual]</td>\n    </tr>\n  </tbody>\n</table>\n</div>"
     },
     "execution_count": 83,
     "metadata": {},
     "output_type": "execute_result"
    }
   ],
   "source": [
    "comparisons_df = pd.DataFrame({'comment_text': comment_texts, 'true_labels': true_label_texts, 'pred_labels':pred_label_texts})\n",
    "comparisons_df.head()"
   ],
   "metadata": {
    "collapsed": false,
    "pycharm": {
     "name": "#%%\n"
    }
   }
  },
  {
   "cell_type": "markdown",
   "source": [
    "# Model usage"
   ],
   "metadata": {
    "collapsed": false,
    "pycharm": {
     "name": "#%% md\n"
    }
   }
  },
  {
   "cell_type": "code",
   "execution_count": 84,
   "outputs": [],
   "source": [
    "train_dataloader = torch.load(config.result_file('train_dataloader.pt'))\n",
    "val_dataloader = torch.load(config.result_file('val_dataloader.pt'))\n",
    "test_dataloader = torch.load(config.result_file('test_dataloader.pt'))"
   ],
   "metadata": {
    "collapsed": false,
    "pycharm": {
     "name": "#%%\n"
    }
   }
  },
  {
   "cell_type": "code",
   "execution_count": 85,
   "outputs": [],
   "source": [
    "model = torch.load(config.result_file('roBERTa_MultLabel_class_model.pt'))\n",
    "tokenizer = RobertaTokenizer.from_pretrained('roberta-base')\n",
    "label_columns = pickle.load(open(config.result_file('label_columns.pkl'),'rb'))"
   ],
   "metadata": {
    "collapsed": false,
    "pycharm": {
     "name": "#%%\n"
    }
   }
  },
  {
   "cell_type": "code",
   "execution_count": 86,
   "outputs": [],
   "source": [
    "sentences = [\"I am a student at the University of Toronto\",\n",
    "             \"That bitch stupid af\",\n",
    "             \"I love the islamic culture\",\n",
    "             \"i would not mind to enjoy his physical assets although he doesn't have much else to offer.\",\n",
    "             \"all niggas are ugly\",\n",
    "             \"please dont talk to me, your breath smells very displeasing. brush your teeth!\"]"
   ],
   "metadata": {
    "collapsed": false,
    "pycharm": {
     "name": "#%%\n"
    }
   }
  },
  {
   "cell_type": "code",
   "execution_count": 87,
   "outputs": [],
   "source": [
    "classifier = ToxicCommentClassifier(model, tokenizer, label_columns)"
   ],
   "metadata": {
    "collapsed": false,
    "pycharm": {
     "name": "#%%\n"
    }
   }
  },
  {
   "cell_type": "code",
   "execution_count": 88,
   "outputs": [
    {
     "name": "stdout",
     "output_type": "stream",
     "text": [
      "I am a student at the University of Toronto\n",
      "['type.intellectual']\n",
      "\n",
      "That bitch stupid af\n",
      "['type.intellectual']\n",
      "\n",
      "I love the islamic culture\n",
      "[]\n",
      "\n",
      "i would not mind to enjoy his physical assets although he doesn't have much else to offer.\n",
      "['type.sex_harassment']\n",
      "\n",
      "all niggas are ugly\n",
      "['type.intellectual']\n",
      "\n",
      "please dont talk to me, your breath smells very displeasing. brush your teeth!\n",
      "['type.sex_harassment']\n",
      "\n"
     ]
    }
   ],
   "source": [
    "for sentence in sentences:\n",
    "    print(sentence)\n",
    "    print(classifier.predict(sentence))\n",
    "    print('')"
   ],
   "metadata": {
    "collapsed": false,
    "pycharm": {
     "name": "#%%\n"
    }
   }
  },
  {
   "cell_type": "markdown",
   "source": [],
   "metadata": {
    "collapsed": false,
    "pycharm": {
     "name": "#%% md\n"
    }
   }
  },
  {
   "cell_type": "code",
   "execution_count": 89,
   "outputs": [
    {
     "name": "stderr",
     "output_type": "stream",
     "text": [
      "Epoch: 100%|██████████| 1/1 [00:04<00:00,  4.30s/it]"
     ]
    },
    {
     "name": "stdout",
     "output_type": "stream",
     "text": [
      "Train loss: 0.14864915940496656\n"
     ]
    },
    {
     "name": "stderr",
     "output_type": "stream",
     "text": [
      "\n"
     ]
    },
    {
     "name": "stdout",
     "output_type": "stream",
     "text": [
      "F1 Validation Accuracy:  86.47450110864746\n",
      "Flat Validation Accuracy:  78.26086956521739\n"
     ]
    }
   ],
   "source": [
    "optimizer = torch.optim.Adam\n",
    "classifier.train(optimizer, train_dataloader, val_dataloader=val_dataloader, epochs=1)"
   ],
   "metadata": {
    "collapsed": false,
    "pycharm": {
     "name": "#%%\n"
    }
   }
  },
  {
   "cell_type": "code",
   "execution_count": 90,
   "outputs": [
    {
     "name": "stdout",
     "output_type": "stream",
     "text": [
      "F1 Validation Accuracy:  80.32786885245902\n",
      "Flat Validation Accuracy:  73.04347826086956\n",
      "                     precision    recall  f1-score   support\n",
      "\n",
      "       type.ableism       0.00      0.00      0.00         2\n",
      "    type.homophobic       1.00      0.57      0.73         7\n",
      "  type.intellectual       0.92      0.68      0.78        34\n",
      "        type.racist       0.00      0.00      0.00         2\n",
      "        type.sexist       0.90      0.64      0.75        28\n",
      "type.sex_harassment       0.80      0.95      0.87        56\n",
      "   type.transphobic       0.00      0.00      0.00         0\n",
      "\n",
      "          micro avg       0.85      0.76      0.80       129\n",
      "          macro avg       0.52      0.41      0.45       129\n",
      "       weighted avg       0.84      0.76      0.78       129\n",
      "        samples avg       0.82      0.79      0.79       129\n",
      "\n"
     ]
    },
    {
     "name": "stderr",
     "output_type": "stream",
     "text": [
      "C:\\Users\\Tobias\\anaconda3\\envs\\HateyBot\\lib\\site-packages\\sklearn\\metrics\\_classification.py:1334: UndefinedMetricWarning: Precision and F-score are ill-defined and being set to 0.0 in labels with no predicted samples. Use `zero_division` parameter to control this behavior.\n",
      "  _warn_prf(average, modifier, msg_start, len(result))\n",
      "C:\\Users\\Tobias\\anaconda3\\envs\\HateyBot\\lib\\site-packages\\sklearn\\metrics\\_classification.py:1334: UndefinedMetricWarning: Recall and F-score are ill-defined and being set to 0.0 in labels with no true samples. Use `zero_division` parameter to control this behavior.\n",
      "  _warn_prf(average, modifier, msg_start, len(result))\n",
      "C:\\Users\\Tobias\\anaconda3\\envs\\HateyBot\\lib\\site-packages\\sklearn\\metrics\\_classification.py:1334: UndefinedMetricWarning: Precision and F-score are ill-defined and being set to 0.0 in samples with no predicted labels. Use `zero_division` parameter to control this behavior.\n",
      "  _warn_prf(average, modifier, msg_start, len(result))\n"
     ]
    }
   ],
   "source": [
    "classifier.test(test_dataloader)"
   ],
   "metadata": {
    "collapsed": false,
    "pycharm": {
     "name": "#%%\n"
    }
   }
  },
  {
   "cell_type": "markdown",
   "source": [],
   "metadata": {
    "collapsed": false,
    "pycharm": {
     "name": "#%% md\n"
    }
   }
  },
  {
   "cell_type": "markdown",
   "source": [
    "# Test the model on the ETHOS dataset"
   ],
   "metadata": {
    "collapsed": false,
    "pycharm": {
     "name": "#%% md\n"
    }
   }
  },
  {
   "cell_type": "code",
   "execution_count": 13,
   "outputs": [
    {
     "data": {
      "text/plain": "         violence  directed_vs_generalized      gender        race  \\\ncount  433.000000               433.000000  433.000000  433.000000   \nmean     0.328609                 0.302132    0.221714    0.176598   \nstd      0.376280                 0.359259    0.351597    0.319689   \nmin      0.000000                 0.000000    0.000000    0.000000   \n25%      0.000000                 0.000000    0.000000    0.000000   \n50%      0.166667                 0.166667    0.000000    0.000000   \n75%      0.666667                 0.600000    0.333333    0.200000   \nmax      1.000000                 1.000000    1.000000    1.000000   \n\n       national_origin  disability    religion  sexual_orientation  \ncount       433.000000  433.000000  433.000000          433.000000  \nmean          0.173562    0.118231    0.170243            0.151904  \nstd           0.315602    0.307248    0.339240            0.320386  \nmin           0.000000    0.000000    0.000000            0.000000  \n25%           0.000000    0.000000    0.000000            0.000000  \n50%           0.000000    0.000000    0.000000            0.000000  \n75%           0.200000    0.000000    0.000000            0.000000  \nmax           1.000000    1.000000    1.000000            1.000000  ",
      "text/html": "<div>\n<style scoped>\n    .dataframe tbody tr th:only-of-type {\n        vertical-align: middle;\n    }\n\n    .dataframe tbody tr th {\n        vertical-align: top;\n    }\n\n    .dataframe thead th {\n        text-align: right;\n    }\n</style>\n<table border=\"1\" class=\"dataframe\">\n  <thead>\n    <tr style=\"text-align: right;\">\n      <th></th>\n      <th>violence</th>\n      <th>directed_vs_generalized</th>\n      <th>gender</th>\n      <th>race</th>\n      <th>national_origin</th>\n      <th>disability</th>\n      <th>religion</th>\n      <th>sexual_orientation</th>\n    </tr>\n  </thead>\n  <tbody>\n    <tr>\n      <th>count</th>\n      <td>433.000000</td>\n      <td>433.000000</td>\n      <td>433.000000</td>\n      <td>433.000000</td>\n      <td>433.000000</td>\n      <td>433.000000</td>\n      <td>433.000000</td>\n      <td>433.000000</td>\n    </tr>\n    <tr>\n      <th>mean</th>\n      <td>0.328609</td>\n      <td>0.302132</td>\n      <td>0.221714</td>\n      <td>0.176598</td>\n      <td>0.173562</td>\n      <td>0.118231</td>\n      <td>0.170243</td>\n      <td>0.151904</td>\n    </tr>\n    <tr>\n      <th>std</th>\n      <td>0.376280</td>\n      <td>0.359259</td>\n      <td>0.351597</td>\n      <td>0.319689</td>\n      <td>0.315602</td>\n      <td>0.307248</td>\n      <td>0.339240</td>\n      <td>0.320386</td>\n    </tr>\n    <tr>\n      <th>min</th>\n      <td>0.000000</td>\n      <td>0.000000</td>\n      <td>0.000000</td>\n      <td>0.000000</td>\n      <td>0.000000</td>\n      <td>0.000000</td>\n      <td>0.000000</td>\n      <td>0.000000</td>\n    </tr>\n    <tr>\n      <th>25%</th>\n      <td>0.000000</td>\n      <td>0.000000</td>\n      <td>0.000000</td>\n      <td>0.000000</td>\n      <td>0.000000</td>\n      <td>0.000000</td>\n      <td>0.000000</td>\n      <td>0.000000</td>\n    </tr>\n    <tr>\n      <th>50%</th>\n      <td>0.166667</td>\n      <td>0.166667</td>\n      <td>0.000000</td>\n      <td>0.000000</td>\n      <td>0.000000</td>\n      <td>0.000000</td>\n      <td>0.000000</td>\n      <td>0.000000</td>\n    </tr>\n    <tr>\n      <th>75%</th>\n      <td>0.666667</td>\n      <td>0.600000</td>\n      <td>0.333333</td>\n      <td>0.200000</td>\n      <td>0.200000</td>\n      <td>0.000000</td>\n      <td>0.000000</td>\n      <td>0.000000</td>\n    </tr>\n    <tr>\n      <th>max</th>\n      <td>1.000000</td>\n      <td>1.000000</td>\n      <td>1.000000</td>\n      <td>1.000000</td>\n      <td>1.000000</td>\n      <td>1.000000</td>\n      <td>1.000000</td>\n      <td>1.000000</td>\n    </tr>\n  </tbody>\n</table>\n</div>"
     },
     "execution_count": 13,
     "metadata": {},
     "output_type": "execute_result"
    }
   ],
   "source": [
    "# Source: https://github.com/intelligence-csd-auth-gr/Ethos-Hate-Speech-Dataset\n",
    "full_ethos_df = pd.read_csv(config.input_file('Ethos_Dataset_Multi_Label.csv'), sep=';')\n",
    "full_ethos_df.describe()"
   ],
   "metadata": {
    "collapsed": false,
    "pycharm": {
     "name": "#%%\n"
    }
   }
  },
  {
   "cell_type": "code",
   "execution_count": 14,
   "outputs": [
    {
     "data": {
      "text/plain": "comment                    0\nviolence                   0\ndirected_vs_generalized    0\ngender                     0\nrace                       0\nnational_origin            0\ndisability                 0\nreligion                   0\nsexual_orientation         0\ndtype: int64"
     },
     "execution_count": 14,
     "metadata": {},
     "output_type": "execute_result"
    }
   ],
   "source": [
    "full_ethos_df.isnull().sum()"
   ],
   "metadata": {
    "collapsed": false,
    "pycharm": {
     "name": "#%%\n"
    }
   }
  },
  {
   "cell_type": "code",
   "execution_count": 15,
   "outputs": [
    {
     "data": {
      "text/plain": "comment                    You look like Russian and speak like Indian. B...\nviolence                                                                 1.0\ndirected_vs_generalized                                                  0.5\ngender                                                              0.142857\nrace                                                                0.142857\nnational_origin                                                     0.714286\ndisability                                                               0.0\nreligion                                                                 0.0\nsexual_orientation                                                       0.0\nName: 2, dtype: object"
     },
     "execution_count": 15,
     "metadata": {},
     "output_type": "execute_result"
    }
   ],
   "source": [
    "full_ethos_df.iloc[2]"
   ],
   "metadata": {
    "collapsed": false,
    "pycharm": {
     "name": "#%%\n"
    }
   }
  },
  {
   "cell_type": "code",
   "execution_count": 16,
   "outputs": [
    {
     "data": {
      "text/plain": "Index(['comment', 'violence', 'directed_vs_generalized', 'gender', 'race',\n       'national_origin', 'disability', 'religion', 'sexual_orientation'],\n      dtype='object')"
     },
     "execution_count": 16,
     "metadata": {},
     "output_type": "execute_result"
    }
   ],
   "source": [
    "full_ethos_df.columns"
   ],
   "metadata": {
    "collapsed": false,
    "pycharm": {
     "name": "#%%\n"
    }
   }
  },
  {
   "cell_type": "code",
   "execution_count": 17,
   "outputs": [],
   "source": [
    "new_columns = ['text', 'type.ableism', 'type.homophobic', 'type.intellectual', 'type.racist','type.sexist', 'type.sex_harassment', 'type.transphobic']"
   ],
   "metadata": {
    "collapsed": false,
    "pycharm": {
     "name": "#%%\n"
    }
   }
  },
  {
   "cell_type": "code",
   "execution_count": 18,
   "outputs": [],
   "source": [
    "mapping = {'comment': 'text', 'gender':'type.sexist', 'race':'type.racist', 'disability':'type.ableism', 'sexual_orientation':'type.homophobic'}"
   ],
   "metadata": {
    "collapsed": false,
    "pycharm": {
     "name": "#%%\n"
    }
   }
  },
  {
   "cell_type": "code",
   "execution_count": 19,
   "outputs": [],
   "source": [
    "full_ethos_df.rename(columns=mapping, inplace=True)\n",
    "full_ethos_df.drop(columns=[col for col in full_ethos_df.columns if col not in mapping.values()], inplace=True)"
   ],
   "metadata": {
    "collapsed": false,
    "pycharm": {
     "name": "#%%\n"
    }
   }
  },
  {
   "cell_type": "code",
   "execution_count": 20,
   "outputs": [
    {
     "data": {
      "text/plain": "text               You should know women's sports are a joke\ntype.sexist                                              1.0\ntype.racist                                              0.0\ntype.ableism                                             0.0\ntype.homophobic                                          0.0\nName: 0, dtype: object"
     },
     "execution_count": 20,
     "metadata": {},
     "output_type": "execute_result"
    }
   ],
   "source": [
    "full_ethos_df.iloc[0]"
   ],
   "metadata": {
    "collapsed": false,
    "pycharm": {
     "name": "#%%\n"
    }
   }
  },
  {
   "cell_type": "code",
   "execution_count": 21,
   "outputs": [],
   "source": [
    "for col in new_columns:\n",
    "    if col not in full_ethos_df.columns:\n",
    "        full_ethos_df[col] = 0.0"
   ],
   "metadata": {
    "collapsed": false,
    "pycharm": {
     "name": "#%%\n"
    }
   }
  },
  {
   "cell_type": "code",
   "execution_count": 22,
   "outputs": [
    {
     "data": {
      "text/plain": "text                   You should know women's sports are a joke\ntype.sexist                                                  1.0\ntype.racist                                                  0.0\ntype.ableism                                                 0.0\ntype.homophobic                                              0.0\ntype.intellectual                                            0.0\ntype.sex_harassment                                          0.0\ntype.transphobic                                             0.0\nName: 0, dtype: object"
     },
     "execution_count": 22,
     "metadata": {},
     "output_type": "execute_result"
    }
   ],
   "source": [
    "full_ethos_df.iloc[0]"
   ],
   "metadata": {
    "collapsed": false,
    "pycharm": {
     "name": "#%%\n"
    }
   }
  },
  {
   "cell_type": "code",
   "execution_count": 23,
   "outputs": [
    {
     "data": {
      "text/plain": "text                   You should know women's sports are a joke\ntype.ableism                                                 0.0\ntype.homophobic                                              0.0\ntype.intellectual                                            0.0\ntype.racist                                                  0.0\ntype.sexist                                                  1.0\ntype.sex_harassment                                          0.0\ntype.transphobic                                             0.0\nName: 0, dtype: object"
     },
     "execution_count": 23,
     "metadata": {},
     "output_type": "execute_result"
    }
   ],
   "source": [
    "column_check = clean_df.columns\n",
    "column_check = [col for col in column_check if 'one_hot' not in col]\n",
    "full_ethos_df = full_ethos_df[column_check]\n",
    "full_ethos_df.iloc[0]"
   ],
   "metadata": {
    "collapsed": false,
    "pycharm": {
     "name": "#%%\n"
    }
   }
  },
  {
   "cell_type": "code",
   "execution_count": 24,
   "outputs": [],
   "source": [
    "threshold = 0.5\n",
    "for col in full_ethos_df.columns:\n",
    "    if col != 'text':\n",
    "        full_ethos_df[col] = full_ethos_df[col].apply(lambda x: 1.0 if x > threshold else 0.0)"
   ],
   "metadata": {
    "collapsed": false,
    "pycharm": {
     "name": "#%%\n"
    }
   }
  },
  {
   "cell_type": "code",
   "execution_count": 25,
   "outputs": [
    {
     "data": {
      "text/plain": "text                   You look like Russian and speak like Indian. B...\ntype.ableism                                                         0.0\ntype.homophobic                                                      0.0\ntype.intellectual                                                    0.0\ntype.racist                                                          0.0\ntype.sexist                                                          0.0\ntype.sex_harassment                                                  0.0\ntype.transphobic                                                     0.0\nName: 2, dtype: object"
     },
     "execution_count": 25,
     "metadata": {},
     "output_type": "execute_result"
    }
   ],
   "source": [
    "# print first row\n",
    "full_ethos_df.iloc[2]"
   ],
   "metadata": {
    "collapsed": false,
    "pycharm": {
     "name": "#%%\n"
    }
   }
  },
  {
   "cell_type": "code",
   "execution_count": 43,
   "outputs": [],
   "source": [
    "def create_dataloader_from_df(df):\n",
    "    df['one_hot'] = df.apply(lambda x: [x[col] for col in label_columns], axis=1)\n",
    "    labels = df['one_hot'].values.tolist()\n",
    "    text = df['text'].values.tolist()\n",
    "    max_length = 100\n",
    "    tokenizer = RobertaTokenizer.from_pretrained('roberta-base')\n",
    "    encoded = tokenizer.batch_encode_plus(text, max_length=max_length, truncation=True, padding='max_length')\n",
    "    input_ids = encoded['input_ids']\n",
    "    attention_mask = encoded['attention_mask']\n",
    "\n",
    "    inputs = torch.tensor(input_ids)\n",
    "    masks = torch.tensor(attention_mask)\n",
    "    labels = torch.tensor(labels)\n",
    "\n",
    "    batch_size = 32\n",
    "    data = TensorDataset(inputs, masks, torch.tensor(labels))\n",
    "    sampler = SequentialSampler(data)\n",
    "    dataloader = DataLoader(data, sampler=sampler, batch_size=batch_size)\n",
    "\n",
    "    return dataloader"
   ],
   "metadata": {
    "collapsed": false,
    "pycharm": {
     "name": "#%%\n"
    }
   }
  },
  {
   "cell_type": "code",
   "execution_count": 27,
   "outputs": [
    {
     "name": "stderr",
     "output_type": "stream",
     "text": [
      "C:\\Users\\Tobias\\AppData\\Local\\Temp\\ipykernel_23100\\377985415.py:16: UserWarning: To copy construct from a tensor, it is recommended to use sourceTensor.clone().detach() or sourceTensor.clone().detach().requires_grad_(True), rather than torch.tensor(sourceTensor).\n",
      "  data = TensorDataset(inputs, masks, torch.tensor(labels))\n"
     ]
    }
   ],
   "source": [
    "ethos_dataloader = create_dataloader_from_df(full_ethos_df)"
   ],
   "metadata": {
    "collapsed": false,
    "pycharm": {
     "name": "#%%\n"
    }
   }
  },
  {
   "cell_type": "markdown",
   "source": [
    "## save the ethos dataloader"
   ],
   "metadata": {
    "collapsed": false,
    "pycharm": {
     "name": "#%% md\n"
    }
   }
  },
  {
   "cell_type": "code",
   "execution_count": 28,
   "outputs": [],
   "source": [
    "torch.save(ethos_dataloader, config.result_file('ethos_dataloader.pt'))"
   ],
   "metadata": {
    "collapsed": false,
    "pycharm": {
     "name": "#%%\n"
    }
   }
  },
  {
   "cell_type": "code",
   "execution_count": 106,
   "outputs": [],
   "source": [
    "model = torch.load(config.result_file('roBERTa_MultLabel_class_model.pt'))\n",
    "tokenizer = RobertaTokenizer.from_pretrained('roberta-base')\n",
    "label_columns = pickle.load(open(config.result_file('label_columns.pkl'),'rb'))\n",
    "\n",
    "classifier = ToxicCommentClassifier(model, tokenizer, label_columns)"
   ],
   "metadata": {
    "collapsed": false,
    "pycharm": {
     "name": "#%%\n"
    }
   }
  },
  {
   "cell_type": "code",
   "execution_count": 107,
   "outputs": [
    {
     "name": "stdout",
     "output_type": "stream",
     "text": [
      "F1 Validation Accuracy:  7.420494699646643\n",
      "Flat Validation Accuracy:  14.087759815242496\n",
      "                     precision    recall  f1-score   support\n",
      "\n",
      "       type.ableism       0.00      0.00      0.00        52\n",
      "    type.homophobic       1.00      0.03      0.06        68\n",
      "  type.intellectual       0.00      0.00      0.00         0\n",
      "        type.racist       0.00      0.00      0.00        71\n",
      "        type.sexist       0.59      0.23      0.33        83\n",
      "type.sex_harassment       0.00      0.00      0.00         0\n",
      "   type.transphobic       0.00      0.00      0.00         0\n",
      "\n",
      "          micro avg       0.07      0.08      0.07       274\n",
      "          macro avg       0.23      0.04      0.06       274\n",
      "       weighted avg       0.43      0.08      0.11       274\n",
      "        samples avg       0.04      0.05      0.05       274\n",
      "\n"
     ]
    },
    {
     "name": "stderr",
     "output_type": "stream",
     "text": [
      "C:\\Users\\Tobias\\anaconda3\\envs\\HateyBot\\lib\\site-packages\\sklearn\\metrics\\_classification.py:1334: UndefinedMetricWarning: Precision and F-score are ill-defined and being set to 0.0 in labels with no predicted samples. Use `zero_division` parameter to control this behavior.\n",
      "  _warn_prf(average, modifier, msg_start, len(result))\n",
      "C:\\Users\\Tobias\\anaconda3\\envs\\HateyBot\\lib\\site-packages\\sklearn\\metrics\\_classification.py:1334: UndefinedMetricWarning: Recall and F-score are ill-defined and being set to 0.0 in labels with no true samples. Use `zero_division` parameter to control this behavior.\n",
      "  _warn_prf(average, modifier, msg_start, len(result))\n",
      "C:\\Users\\Tobias\\anaconda3\\envs\\HateyBot\\lib\\site-packages\\sklearn\\metrics\\_classification.py:1334: UndefinedMetricWarning: Precision and F-score are ill-defined and being set to 0.0 in samples with no predicted labels. Use `zero_division` parameter to control this behavior.\n",
      "  _warn_prf(average, modifier, msg_start, len(result))\n",
      "C:\\Users\\Tobias\\anaconda3\\envs\\HateyBot\\lib\\site-packages\\sklearn\\metrics\\_classification.py:1334: UndefinedMetricWarning: Recall and F-score are ill-defined and being set to 0.0 in samples with no true labels. Use `zero_division` parameter to control this behavior.\n",
      "  _warn_prf(average, modifier, msg_start, len(result))\n"
     ]
    }
   ],
   "source": [
    "classifier.test(ethos_dataloader)"
   ],
   "metadata": {
    "collapsed": false,
    "pycharm": {
     "name": "#%%\n"
    }
   }
  },
  {
   "cell_type": "markdown",
   "source": [
    "# balacing the dataset"
   ],
   "metadata": {
    "collapsed": false,
    "pycharm": {
     "name": "#%% md\n"
    }
   }
  },
  {
   "cell_type": "code",
   "execution_count": 66,
   "outputs": [
    {
     "data": {
      "text/plain": "                                                 text  type.ableism  \\\n32  Please go on. yo muma is so fat when she jumed...             0   \n33  Please go on. no You are being a bit negative....             0   \n62  You are sure? Bite me Can you elaborate on tha...             0   \n82  _ give me head Can you elaborate on that? suck...             0   \n87  Please go on. You look like monkey drool Oh, i...             0   \n\n    type.homophobic  type.intellectual  type.racist  type.sexist  \\\n32                0                  0            0            1   \n33                0                  0            0            1   \n62                0                  0            0            1   \n82                0                  0            0            0   \n87                0                  1            0            0   \n\n    type.sex_harassment  type.transphobic  \n32                    1                 0  \n33                    0                 0  \n62                    0                 0  \n82                    1                 0  \n87                    0                 0  ",
      "text/html": "<div>\n<style scoped>\n    .dataframe tbody tr th:only-of-type {\n        vertical-align: middle;\n    }\n\n    .dataframe tbody tr th {\n        vertical-align: top;\n    }\n\n    .dataframe thead th {\n        text-align: right;\n    }\n</style>\n<table border=\"1\" class=\"dataframe\">\n  <thead>\n    <tr style=\"text-align: right;\">\n      <th></th>\n      <th>text</th>\n      <th>type.ableism</th>\n      <th>type.homophobic</th>\n      <th>type.intellectual</th>\n      <th>type.racist</th>\n      <th>type.sexist</th>\n      <th>type.sex_harassment</th>\n      <th>type.transphobic</th>\n    </tr>\n  </thead>\n  <tbody>\n    <tr>\n      <th>32</th>\n      <td>Please go on. yo muma is so fat when she jumed...</td>\n      <td>0</td>\n      <td>0</td>\n      <td>0</td>\n      <td>0</td>\n      <td>1</td>\n      <td>1</td>\n      <td>0</td>\n    </tr>\n    <tr>\n      <th>33</th>\n      <td>Please go on. no You are being a bit negative....</td>\n      <td>0</td>\n      <td>0</td>\n      <td>0</td>\n      <td>0</td>\n      <td>1</td>\n      <td>0</td>\n      <td>0</td>\n    </tr>\n    <tr>\n      <th>62</th>\n      <td>You are sure? Bite me Can you elaborate on tha...</td>\n      <td>0</td>\n      <td>0</td>\n      <td>0</td>\n      <td>0</td>\n      <td>1</td>\n      <td>0</td>\n      <td>0</td>\n    </tr>\n    <tr>\n      <th>82</th>\n      <td>_ give me head Can you elaborate on that? suck...</td>\n      <td>0</td>\n      <td>0</td>\n      <td>0</td>\n      <td>0</td>\n      <td>0</td>\n      <td>1</td>\n      <td>0</td>\n    </tr>\n    <tr>\n      <th>87</th>\n      <td>Please go on. You look like monkey drool Oh, i...</td>\n      <td>0</td>\n      <td>0</td>\n      <td>1</td>\n      <td>0</td>\n      <td>0</td>\n      <td>0</td>\n      <td>0</td>\n    </tr>\n  </tbody>\n</table>\n</div>"
     },
     "execution_count": 66,
     "metadata": {},
     "output_type": "execute_result"
    }
   ],
   "source": [
    "# load the dataset\n",
    "full_df = pd.read_csv(config.input_file('ConvAbuseEMNLPfull.csv'))\n",
    "clean_df = full_df.drop(columns=['example_no', 'annotator_id', 'conv_id', 'bot', 'target.generalised', 'target.individual', 'target.system', 'direction.explicit', 'direction.implicit', 'is_abuse.1', 'is_abuse.0', 'is_abuse.-1', 'is_abuse.-2', 'is_abuse.-3'])\n",
    "clean_df['text'] = clean_df['prev_agent'] + ' ' + clean_df['prev_user'] + ' ' + clean_df['agent'] + ' ' + clean_df['user']\n",
    "column_order = ['text']\n",
    "column_order.extend(clean_df.columns.drop('text'))\n",
    "clean_df = clean_df[column_order]\n",
    "clean_df = clean_df.drop(columns=['prev_agent', 'prev_user', 'agent', 'user'])\n",
    "\n",
    "label_columns = clean_df.columns.drop('text')\n",
    "clean_df = clean_df[clean_df[label_columns].sum(axis=1) > 0]\n",
    "\n",
    "clean_df.to_csv(config.result_file('clean_df.csv'), index=False)\n",
    "\n",
    "clean_df.head()"
   ],
   "metadata": {
    "collapsed": false,
    "pycharm": {
     "name": "#%%\n"
    }
   }
  },
  {
   "cell_type": "code",
   "execution_count": 67,
   "outputs": [
    {
     "data": {
      "text/plain": "<AxesSubplot:>"
     },
     "execution_count": 67,
     "metadata": {},
     "output_type": "execute_result"
    },
    {
     "data": {
      "text/plain": "<Figure size 640x480 with 1 Axes>",
      "image/png": "[encoded data removed]"
     },
     "metadata": {},
     "output_type": "display_data"
    }
   ],
   "source": [
    "# plot the label distribution\n",
    "clean_df[label_columns].sum(axis=0).plot(kind='bar')"
   ],
   "metadata": {
    "collapsed": false,
    "pycharm": {
     "name": "#%%\n"
    }
   }
  },
  {
   "cell_type": "code",
   "execution_count": 68,
   "outputs": [
    {
     "data": {
      "text/plain": "                                                 text  type.ableism  \\\n32  Please go on. yo muma is so fat when she jumed...             0   \n33  Please go on. no You are being a bit negative....             0   \n62  You are sure? Bite me Can you elaborate on tha...             0   \n82  _ give me head Can you elaborate on that? suck...             0   \n87  Please go on. You look like monkey drool Oh, i...             0   \n\n    type.homophobic  type.intellectual  type.racist  type.sexist  \\\n32                0                  0            0            1   \n33                0                  0            0            1   \n62                0                  0            0            1   \n82                0                  0            0            0   \n87                0                  1            0            0   \n\n    type.sex_harassment  type.transphobic                one_hot  \n32                    1                 0  [0, 0, 0, 0, 1, 1, 0]  \n33                    0                 0  [0, 0, 0, 0, 1, 0, 0]  \n62                    0                 0  [0, 0, 0, 0, 1, 0, 0]  \n82                    1                 0  [0, 0, 0, 0, 0, 1, 0]  \n87                    0                 0  [0, 0, 1, 0, 0, 0, 0]  ",
      "text/html": "<div>\n<style scoped>\n    .dataframe tbody tr th:only-of-type {\n        vertical-align: middle;\n    }\n\n    .dataframe tbody tr th {\n        vertical-align: top;\n    }\n\n    .dataframe thead th {\n        text-align: right;\n    }\n</style>\n<table border=\"1\" class=\"dataframe\">\n  <thead>\n    <tr style=\"text-align: right;\">\n      <th></th>\n      <th>text</th>\n      <th>type.ableism</th>\n      <th>type.homophobic</th>\n      <th>type.intellectual</th>\n      <th>type.racist</th>\n      <th>type.sexist</th>\n      <th>type.sex_harassment</th>\n      <th>type.transphobic</th>\n      <th>one_hot</th>\n    </tr>\n  </thead>\n  <tbody>\n    <tr>\n      <th>32</th>\n      <td>Please go on. yo muma is so fat when she jumed...</td>\n      <td>0</td>\n      <td>0</td>\n      <td>0</td>\n      <td>0</td>\n      <td>1</td>\n      <td>1</td>\n      <td>0</td>\n      <td>[0, 0, 0, 0, 1, 1, 0]</td>\n    </tr>\n    <tr>\n      <th>33</th>\n      <td>Please go on. no You are being a bit negative....</td>\n      <td>0</td>\n      <td>0</td>\n      <td>0</td>\n      <td>0</td>\n      <td>1</td>\n      <td>0</td>\n      <td>0</td>\n      <td>[0, 0, 0, 0, 1, 0, 0]</td>\n    </tr>\n    <tr>\n      <th>62</th>\n      <td>You are sure? Bite me Can you elaborate on tha...</td>\n      <td>0</td>\n      <td>0</td>\n      <td>0</td>\n      <td>0</td>\n      <td>1</td>\n      <td>0</td>\n      <td>0</td>\n      <td>[0, 0, 0, 0, 1, 0, 0]</td>\n    </tr>\n    <tr>\n      <th>82</th>\n      <td>_ give me head Can you elaborate on that? suck...</td>\n      <td>0</td>\n      <td>0</td>\n      <td>0</td>\n      <td>0</td>\n      <td>0</td>\n      <td>1</td>\n      <td>0</td>\n      <td>[0, 0, 0, 0, 0, 1, 0]</td>\n    </tr>\n    <tr>\n      <th>87</th>\n      <td>Please go on. You look like monkey drool Oh, i...</td>\n      <td>0</td>\n      <td>0</td>\n      <td>1</td>\n      <td>0</td>\n      <td>0</td>\n      <td>0</td>\n      <td>0</td>\n      <td>[0, 0, 1, 0, 0, 0, 0]</td>\n    </tr>\n  </tbody>\n</table>\n</div>"
     },
     "execution_count": 68,
     "metadata": {},
     "output_type": "execute_result"
    }
   ],
   "source": [
    "# create a single one hot encoding over all labels\n",
    "clean_df['one_hot'] = clean_df.apply(lambda x: [x[col] for col in label_columns], axis=1)\n",
    "clean_df.head()"
   ],
   "metadata": {
    "collapsed": false,
    "pycharm": {
     "name": "#%%# create one hot encoding over all labels\n"
    }
   }
  },
  {
   "cell_type": "code",
   "execution_count": 69,
   "outputs": [],
   "source": [
    "# make a train test split\n",
    "clean_df, test_df = train_test_split(clean_df, test_size=0.2, random_state=42)"
   ],
   "metadata": {
    "collapsed": false,
    "pycharm": {
     "name": "#%%\n"
    }
   }
  },
  {
   "cell_type": "code",
   "execution_count": 70,
   "outputs": [
    {
     "data": {
      "text/plain": "                                                    text  \\\n10824  ok how much CO2 do i emit with a 7 hour flight...   \n1400   Oh, i arent the one in the hopeless situation ...   \n4347   Please go on. you are a stupid ass Does it ple...   \n4340          Oh, i taste good. yeeh Please go on. nigga   \n9211   _ i love you Do you wish to love me? yeah sure...   \n\n                     one_hot  \n10824  [0, 0, 1, 0, 0, 0, 0]  \n1400   [0, 0, 1, 0, 0, 0, 0]  \n4347   [0, 0, 1, 0, 0, 0, 0]  \n4340   [0, 0, 0, 1, 0, 0, 0]  \n9211   [0, 0, 0, 0, 0, 1, 0]  ",
      "text/html": "<div>\n<style scoped>\n    .dataframe tbody tr th:only-of-type {\n        vertical-align: middle;\n    }\n\n    .dataframe tbody tr th {\n        vertical-align: top;\n    }\n\n    .dataframe thead th {\n        text-align: right;\n    }\n</style>\n<table border=\"1\" class=\"dataframe\">\n  <thead>\n    <tr style=\"text-align: right;\">\n      <th></th>\n      <th>text</th>\n      <th>one_hot</th>\n    </tr>\n  </thead>\n  <tbody>\n    <tr>\n      <th>10824</th>\n      <td>ok how much CO2 do i emit with a 7 hour flight...</td>\n      <td>[0, 0, 1, 0, 0, 0, 0]</td>\n    </tr>\n    <tr>\n      <th>1400</th>\n      <td>Oh, i arent the one in the hopeless situation ...</td>\n      <td>[0, 0, 1, 0, 0, 0, 0]</td>\n    </tr>\n    <tr>\n      <th>4347</th>\n      <td>Please go on. you are a stupid ass Does it ple...</td>\n      <td>[0, 0, 1, 0, 0, 0, 0]</td>\n    </tr>\n    <tr>\n      <th>4340</th>\n      <td>Oh, i taste good. yeeh Please go on. nigga</td>\n      <td>[0, 0, 0, 1, 0, 0, 0]</td>\n    </tr>\n    <tr>\n      <th>9211</th>\n      <td>_ i love you Do you wish to love me? yeah sure...</td>\n      <td>[0, 0, 0, 0, 0, 1, 0]</td>\n    </tr>\n  </tbody>\n</table>\n</div>"
     },
     "execution_count": 70,
     "metadata": {},
     "output_type": "execute_result"
    }
   ],
   "source": [
    "# remove the label columns and keep only the text and the one hot encoding\n",
    "clean_df = clean_df[['text', 'one_hot']]\n",
    "clean_df.head()"
   ],
   "metadata": {
    "collapsed": false,
    "pycharm": {
     "name": "#%%\n"
    }
   }
  },
  {
   "cell_type": "code",
   "execution_count": 71,
   "outputs": [
    {
     "data": {
      "text/plain": "<AxesSubplot:>"
     },
     "execution_count": 71,
     "metadata": {},
     "output_type": "execute_result"
    },
    {
     "data": {
      "text/plain": "<Figure size 640x480 with 1 Axes>",
      "image/png": "[encoded data removed]"
     },
     "metadata": {},
     "output_type": "display_data"
    }
   ],
   "source": [
    "# plot the distribution of the one hot encoding\n",
    "clean_df['one_hot'].value_counts().plot(kind='bar')"
   ],
   "metadata": {
    "collapsed": false,
    "pycharm": {
     "name": "#%%\n"
    }
   }
  },
  {
   "cell_type": "code",
   "execution_count": 72,
   "outputs": [
    {
     "data": {
      "text/plain": "                                                    text  one_hot\n10824  ok how much CO2 do i emit with a 7 hour flight...       16\n1400   Oh, i arent the one in the hopeless situation ...       16\n4347   Please go on. you are a stupid ass Does it ple...       16\n4340          Oh, i taste good. yeeh Please go on. nigga        8\n9211   _ i love you Do you wish to love me? yeah sure...        2",
      "text/html": "<div>\n<style scoped>\n    .dataframe tbody tr th:only-of-type {\n        vertical-align: middle;\n    }\n\n    .dataframe tbody tr th {\n        vertical-align: top;\n    }\n\n    .dataframe thead th {\n        text-align: right;\n    }\n</style>\n<table border=\"1\" class=\"dataframe\">\n  <thead>\n    <tr style=\"text-align: right;\">\n      <th></th>\n      <th>text</th>\n      <th>one_hot</th>\n    </tr>\n  </thead>\n  <tbody>\n    <tr>\n      <th>10824</th>\n      <td>ok how much CO2 do i emit with a 7 hour flight...</td>\n      <td>16</td>\n    </tr>\n    <tr>\n      <th>1400</th>\n      <td>Oh, i arent the one in the hopeless situation ...</td>\n      <td>16</td>\n    </tr>\n    <tr>\n      <th>4347</th>\n      <td>Please go on. you are a stupid ass Does it ple...</td>\n      <td>16</td>\n    </tr>\n    <tr>\n      <th>4340</th>\n      <td>Oh, i taste good. yeeh Please go on. nigga</td>\n      <td>8</td>\n    </tr>\n    <tr>\n      <th>9211</th>\n      <td>_ i love you Do you wish to love me? yeah sure...</td>\n      <td>2</td>\n    </tr>\n  </tbody>\n</table>\n</div>"
     },
     "execution_count": 72,
     "metadata": {},
     "output_type": "execute_result"
    }
   ],
   "source": [
    "# interpret the one hot encoding as a binary numbers and assign the corresponding decimal number\n",
    "clean_df['one_hot'] = clean_df['one_hot'].apply(lambda x: int(''.join([str(int(i)) for i in x]), 2))\n",
    "clean_df.head()"
   ],
   "metadata": {
    "collapsed": false,
    "pycharm": {
     "name": "#%%# use MultiLabelBinarizer to create a one hot encoding for the labels\n"
    }
   }
  },
  {
   "cell_type": "code",
   "execution_count": 73,
   "outputs": [
    {
     "data": {
      "text/plain": "<AxesSubplot:>"
     },
     "execution_count": 73,
     "metadata": {},
     "output_type": "execute_result"
    },
    {
     "data": {
      "text/plain": "<Figure size 640x480 with 1 Axes>",
      "image/png": "[encoded data removed]"
     },
     "metadata": {},
     "output_type": "display_data"
    }
   ],
   "source": [
    "# show all the different one hot encodings\n",
    "clean_df['one_hot'].value_counts().plot(kind='bar')"
   ],
   "metadata": {
    "collapsed": false,
    "pycharm": {
     "name": "#%%\n"
    }
   }
  },
  {
   "cell_type": "code",
   "execution_count": 74,
   "outputs": [
    {
     "name": "stdout",
     "output_type": "stream",
     "text": [
      "[(1, 353), (2, 353), (4, 353), (6, 353), (8, 353), (10, 353), (14, 353), (16, 353), (20, 353), (22, 353), (32, 353), (34, 353), (38, 353), (48, 353), (57, 353), (64, 353), (80, 353), (109, 353)]\n"
     ]
    }
   ],
   "source": [
    "# use over sampling to balance the dataset\n",
    "X = clean_df['text'].values\n",
    "y = clean_df['one_hot'].values\n",
    "\n",
    "ros = RandomOverSampler(random_state=0)\n",
    "X_resampled, y_resampled = ros.fit_resample(X.reshape(-1, 1), y)\n",
    "print(sorted(Counter(y_resampled).items()))"
   ],
   "metadata": {
    "collapsed": false,
    "pycharm": {
     "name": "#%%\n"
    }
   }
  },
  {
   "cell_type": "code",
   "execution_count": 75,
   "outputs": [
    {
     "data": {
      "text/plain": "<AxesSubplot:>"
     },
     "execution_count": 75,
     "metadata": {},
     "output_type": "execute_result"
    },
    {
     "data": {
      "text/plain": "<Figure size 640x480 with 1 Axes>",
      "image/png": "[encoded data removed]"
     },
     "metadata": {},
     "output_type": "display_data"
    }
   ],
   "source": [
    "# plot the distribution of the new labels\n",
    "pd.Series(y_resampled).value_counts().plot(kind='bar')"
   ],
   "metadata": {
    "collapsed": false,
    "pycharm": {
     "name": "#%%\n"
    }
   }
  },
  {
   "cell_type": "code",
   "execution_count": 76,
   "outputs": [
    {
     "data": {
      "text/plain": "                                                text  one_hot\n0  ok how much CO2 do i emit with a 7 hour flight...       16\n1  Oh, i arent the one in the hopeless situation ...       16\n2  Please go on. you are a stupid ass Does it ple...       16\n3         Oh, i taste good. yeeh Please go on. nigga        8\n4  _ i love you Do you wish to love me? yeah sure...        2",
      "text/html": "<div>\n<style scoped>\n    .dataframe tbody tr th:only-of-type {\n        vertical-align: middle;\n    }\n\n    .dataframe tbody tr th {\n        vertical-align: top;\n    }\n\n    .dataframe thead th {\n        text-align: right;\n    }\n</style>\n<table border=\"1\" class=\"dataframe\">\n  <thead>\n    <tr style=\"text-align: right;\">\n      <th></th>\n      <th>text</th>\n      <th>one_hot</th>\n    </tr>\n  </thead>\n  <tbody>\n    <tr>\n      <th>0</th>\n      <td>ok how much CO2 do i emit with a 7 hour flight...</td>\n      <td>16</td>\n    </tr>\n    <tr>\n      <th>1</th>\n      <td>Oh, i arent the one in the hopeless situation ...</td>\n      <td>16</td>\n    </tr>\n    <tr>\n      <th>2</th>\n      <td>Please go on. you are a stupid ass Does it ple...</td>\n      <td>16</td>\n    </tr>\n    <tr>\n      <th>3</th>\n      <td>Oh, i taste good. yeeh Please go on. nigga</td>\n      <td>8</td>\n    </tr>\n    <tr>\n      <th>4</th>\n      <td>_ i love you Do you wish to love me? yeah sure...</td>\n      <td>2</td>\n    </tr>\n  </tbody>\n</table>\n</div>"
     },
     "execution_count": 76,
     "metadata": {},
     "output_type": "execute_result"
    }
   ],
   "source": [
    "# create a new dataframe with the balanced dataset\n",
    "balanced_df = pd.DataFrame({'text': X_resampled.reshape(-1), 'one_hot': y_resampled})\n",
    "balanced_df.head()"
   ],
   "metadata": {
    "collapsed": false,
    "pycharm": {
     "name": "#%%\n"
    }
   }
  },
  {
   "cell_type": "code",
   "execution_count": 77,
   "outputs": [
    {
     "data": {
      "text/plain": "                                                text                one_hot\n0  ok how much CO2 do i emit with a 7 hour flight...  [0, 0, 1, 0, 0, 0, 0]\n1  Oh, i arent the one in the hopeless situation ...  [0, 0, 1, 0, 0, 0, 0]\n2  Please go on. you are a stupid ass Does it ple...  [0, 0, 1, 0, 0, 0, 0]\n3         Oh, i taste good. yeeh Please go on. nigga  [0, 0, 0, 1, 0, 0, 0]\n4  _ i love you Do you wish to love me? yeah sure...  [0, 0, 0, 0, 0, 1, 0]",
      "text/html": "<div>\n<style scoped>\n    .dataframe tbody tr th:only-of-type {\n        vertical-align: middle;\n    }\n\n    .dataframe tbody tr th {\n        vertical-align: top;\n    }\n\n    .dataframe thead th {\n        text-align: right;\n    }\n</style>\n<table border=\"1\" class=\"dataframe\">\n  <thead>\n    <tr style=\"text-align: right;\">\n      <th></th>\n      <th>text</th>\n      <th>one_hot</th>\n    </tr>\n  </thead>\n  <tbody>\n    <tr>\n      <th>0</th>\n      <td>ok how much CO2 do i emit with a 7 hour flight...</td>\n      <td>[0, 0, 1, 0, 0, 0, 0]</td>\n    </tr>\n    <tr>\n      <th>1</th>\n      <td>Oh, i arent the one in the hopeless situation ...</td>\n      <td>[0, 0, 1, 0, 0, 0, 0]</td>\n    </tr>\n    <tr>\n      <th>2</th>\n      <td>Please go on. you are a stupid ass Does it ple...</td>\n      <td>[0, 0, 1, 0, 0, 0, 0]</td>\n    </tr>\n    <tr>\n      <th>3</th>\n      <td>Oh, i taste good. yeeh Please go on. nigga</td>\n      <td>[0, 0, 0, 1, 0, 0, 0]</td>\n    </tr>\n    <tr>\n      <th>4</th>\n      <td>_ i love you Do you wish to love me? yeah sure...</td>\n      <td>[0, 0, 0, 0, 0, 1, 0]</td>\n    </tr>\n  </tbody>\n</table>\n</div>"
     },
     "execution_count": 77,
     "metadata": {},
     "output_type": "execute_result"
    }
   ],
   "source": [
    "# convert the one hot encoding back to a list of labels\n",
    "balanced_df['one_hot'] = balanced_df['one_hot'].apply(lambda x: [int(i) for i in list('{0:0b}'.format(x).zfill(len(label_columns)))])\n",
    "balanced_df.head()"
   ],
   "metadata": {
    "collapsed": false,
    "pycharm": {
     "name": "#%%\n"
    }
   }
  },
  {
   "cell_type": "code",
   "execution_count": 78,
   "outputs": [
    {
     "data": {
      "text/plain": "<AxesSubplot:>"
     },
     "execution_count": 78,
     "metadata": {},
     "output_type": "execute_result"
    },
    {
     "data": {
      "text/plain": "<Figure size 640x480 with 1 Axes>",
      "image/png": "[encoded data removed]"
     },
     "metadata": {},
     "output_type": "display_data"
    }
   ],
   "source": [
    "# plot the distribution of the new labels\n",
    "balanced_df['one_hot'].value_counts().plot(kind='bar')"
   ],
   "metadata": {
    "collapsed": false,
    "pycharm": {
     "name": "#%%\n"
    }
   }
  },
  {
   "cell_type": "code",
   "execution_count": 79,
   "outputs": [
    {
     "data": {
      "text/plain": "                                                text                one_hot  \\\n0  ok how much CO2 do i emit with a 7 hour flight...  [0, 0, 1, 0, 0, 0, 0]   \n1  Oh, i arent the one in the hopeless situation ...  [0, 0, 1, 0, 0, 0, 0]   \n2  Please go on. you are a stupid ass Does it ple...  [0, 0, 1, 0, 0, 0, 0]   \n3         Oh, i taste good. yeeh Please go on. nigga  [0, 0, 0, 1, 0, 0, 0]   \n4  _ i love you Do you wish to love me? yeah sure...  [0, 0, 0, 0, 0, 1, 0]   \n\n   type.ableism  type.homophobic  type.intellectual  type.racist  type.sexist  \\\n0             0                0                  1            0            0   \n1             0                0                  1            0            0   \n2             0                0                  1            0            0   \n3             0                0                  0            1            0   \n4             0                0                  0            0            0   \n\n   type.sex_harassment  type.transphobic  \n0                    0                 0  \n1                    0                 0  \n2                    0                 0  \n3                    0                 0  \n4                    1                 0  ",
      "text/html": "<div>\n<style scoped>\n    .dataframe tbody tr th:only-of-type {\n        vertical-align: middle;\n    }\n\n    .dataframe tbody tr th {\n        vertical-align: top;\n    }\n\n    .dataframe thead th {\n        text-align: right;\n    }\n</style>\n<table border=\"1\" class=\"dataframe\">\n  <thead>\n    <tr style=\"text-align: right;\">\n      <th></th>\n      <th>text</th>\n      <th>one_hot</th>\n      <th>type.ableism</th>\n      <th>type.homophobic</th>\n      <th>type.intellectual</th>\n      <th>type.racist</th>\n      <th>type.sexist</th>\n      <th>type.sex_harassment</th>\n      <th>type.transphobic</th>\n    </tr>\n  </thead>\n  <tbody>\n    <tr>\n      <th>0</th>\n      <td>ok how much CO2 do i emit with a 7 hour flight...</td>\n      <td>[0, 0, 1, 0, 0, 0, 0]</td>\n      <td>0</td>\n      <td>0</td>\n      <td>1</td>\n      <td>0</td>\n      <td>0</td>\n      <td>0</td>\n      <td>0</td>\n    </tr>\n    <tr>\n      <th>1</th>\n      <td>Oh, i arent the one in the hopeless situation ...</td>\n      <td>[0, 0, 1, 0, 0, 0, 0]</td>\n      <td>0</td>\n      <td>0</td>\n      <td>1</td>\n      <td>0</td>\n      <td>0</td>\n      <td>0</td>\n      <td>0</td>\n    </tr>\n    <tr>\n      <th>2</th>\n      <td>Please go on. you are a stupid ass Does it ple...</td>\n      <td>[0, 0, 1, 0, 0, 0, 0]</td>\n      <td>0</td>\n      <td>0</td>\n      <td>1</td>\n      <td>0</td>\n      <td>0</td>\n      <td>0</td>\n      <td>0</td>\n    </tr>\n    <tr>\n      <th>3</th>\n      <td>Oh, i taste good. yeeh Please go on. nigga</td>\n      <td>[0, 0, 0, 1, 0, 0, 0]</td>\n      <td>0</td>\n      <td>0</td>\n      <td>0</td>\n      <td>1</td>\n      <td>0</td>\n      <td>0</td>\n      <td>0</td>\n    </tr>\n    <tr>\n      <th>4</th>\n      <td>_ i love you Do you wish to love me? yeah sure...</td>\n      <td>[0, 0, 0, 0, 0, 1, 0]</td>\n      <td>0</td>\n      <td>0</td>\n      <td>0</td>\n      <td>0</td>\n      <td>0</td>\n      <td>1</td>\n      <td>0</td>\n    </tr>\n  </tbody>\n</table>\n</div>"
     },
     "execution_count": 79,
     "metadata": {},
     "output_type": "execute_result"
    }
   ],
   "source": [
    "# create the intial label columns from the one hot encoding\n",
    "balanced_df[label_columns] = pd.DataFrame(balanced_df['one_hot'].values.tolist(), index= balanced_df.index)\n",
    "balanced_df.head()"
   ],
   "metadata": {
    "collapsed": false,
    "pycharm": {
     "name": "#%%\n"
    }
   }
  },
  {
   "cell_type": "code",
   "execution_count": 80,
   "outputs": [
    {
     "data": {
      "text/plain": "<AxesSubplot:>"
     },
     "execution_count": 80,
     "metadata": {},
     "output_type": "execute_result"
    },
    {
     "data": {
      "text/plain": "<Figure size 640x480 with 1 Axes>",
      "image/png": "[encoded data removed]"
     },
     "metadata": {},
     "output_type": "display_data"
    }
   ],
   "source": [
    "balanced_df[label_columns].sum(axis=0).plot(kind='bar')"
   ],
   "metadata": {
    "collapsed": false,
    "pycharm": {
     "name": "#%%\n"
    }
   }
  },
  {
   "cell_type": "code",
   "execution_count": 81,
   "outputs": [],
   "source": [
    "# create train, validation and test set\n",
    "train_df, val_df = train_test_split(balanced_df, test_size=0.2, random_state=42)"
   ],
   "metadata": {
    "collapsed": false,
    "pycharm": {
     "name": "#%%\n"
    }
   }
  },
  {
   "cell_type": "code",
   "execution_count": 82,
   "outputs": [],
   "source": [
    "# use the new data to train the model\n",
    "model = torch.load(config.result_file('roBERTa_MultLabel_class_model.pt'))\n",
    "tokenizer = RobertaTokenizer.from_pretrained('roberta-base')\n",
    "label_columns = pickle.load(open(config.result_file('label_columns.pkl'),'rb'))\n",
    "optimizer = torch.optim.Adam\n",
    "\n",
    "classifier = ToxicCommentClassifier(model, tokenizer, label_columns)"
   ],
   "metadata": {
    "collapsed": false,
    "pycharm": {
     "name": "#%%\n"
    }
   }
  },
  {
   "cell_type": "code",
   "execution_count": 83,
   "outputs": [
    {
     "name": "stderr",
     "output_type": "stream",
     "text": [
      "C:\\Users\\Tobias\\AppData\\Local\\Temp\\ipykernel_21872\\377985415.py:16: UserWarning: To copy construct from a tensor, it is recommended to use sourceTensor.clone().detach() or sourceTensor.clone().detach().requires_grad_(True), rather than torch.tensor(sourceTensor).\n",
      "  data = TensorDataset(inputs, masks, torch.tensor(labels))\n",
      "C:\\Users\\Tobias\\AppData\\Local\\Temp\\ipykernel_21872\\377985415.py:16: UserWarning: To copy construct from a tensor, it is recommended to use sourceTensor.clone().detach() or sourceTensor.clone().detach().requires_grad_(True), rather than torch.tensor(sourceTensor).\n",
      "  data = TensorDataset(inputs, masks, torch.tensor(labels))\n",
      "C:\\Users\\Tobias\\AppData\\Local\\Temp\\ipykernel_21872\\377985415.py:16: UserWarning: To copy construct from a tensor, it is recommended to use sourceTensor.clone().detach() or sourceTensor.clone().detach().requires_grad_(True), rather than torch.tensor(sourceTensor).\n",
      "  data = TensorDataset(inputs, masks, torch.tensor(labels))\n"
     ]
    }
   ],
   "source": [
    "# create the data loaders\n",
    "train_dataloader = create_dataloader_from_df(train_df)\n",
    "val_dataloader = create_dataloader_from_df(val_df)\n",
    "test_dataloader = create_dataloader_from_df(test_df)"
   ],
   "metadata": {
    "collapsed": false,
    "pycharm": {
     "name": "#%%\n"
    }
   }
  },
  {
   "cell_type": "code",
   "execution_count": 84,
   "outputs": [
    {
     "name": "stderr",
     "output_type": "stream",
     "text": [
      "Epoch:  33%|███▎      | 1/3 [00:27<00:54, 27.34s/it]"
     ]
    },
    {
     "name": "stdout",
     "output_type": "stream",
     "text": [
      "Train loss: 0.17824314759587342\n"
     ]
    },
    {
     "name": "stderr",
     "output_type": "stream",
     "text": [
      "Epoch:  67%|██████▋   | 2/3 [00:53<00:26, 26.59s/it]"
     ]
    },
    {
     "name": "stdout",
     "output_type": "stream",
     "text": [
      "Train loss: 0.06961461109747677\n"
     ]
    },
    {
     "name": "stderr",
     "output_type": "stream",
     "text": [
      "Epoch: 100%|██████████| 3/3 [01:19<00:00, 26.38s/it]"
     ]
    },
    {
     "name": "stdout",
     "output_type": "stream",
     "text": [
      "Train loss: 0.05233107256533215\n"
     ]
    },
    {
     "name": "stderr",
     "output_type": "stream",
     "text": [
      "\n"
     ]
    },
    {
     "name": "stdout",
     "output_type": "stream",
     "text": [
      "F1 Validation Accuracy:  97.85538052761437\n",
      "Flat Validation Accuracy:  92.5255704169945\n"
     ]
    }
   ],
   "source": [
    "# train the model on the balanced dataset\n",
    "classifier.train(optimizer, train_dataloader, val_dataloader=val_dataloader, epochs=3)"
   ],
   "metadata": {
    "collapsed": false,
    "pycharm": {
     "name": "#%%\n"
    }
   }
  },
  {
   "cell_type": "code",
   "execution_count": 85,
   "outputs": [
    {
     "name": "stdout",
     "output_type": "stream",
     "text": [
      "F1 Validation Accuracy:  90.0562851782364\n",
      "Flat Validation Accuracy:  80.95238095238095\n",
      "                     precision    recall  f1-score   support\n",
      "\n",
      "       type.ableism       0.20      0.50      0.29         2\n",
      "    type.homophobic       0.82      0.88      0.85        16\n",
      "  type.intellectual       0.94      0.97      0.95        62\n",
      "        type.racist       1.00      0.71      0.83         7\n",
      "        type.sexist       0.74      0.89      0.81        62\n",
      "type.sex_harassment       0.96      0.97      0.97       108\n",
      "   type.transphobic       0.00      0.00      0.00         1\n",
      "\n",
      "          micro avg       0.87      0.93      0.90       258\n",
      "          macro avg       0.67      0.70      0.67       258\n",
      "       weighted avg       0.89      0.93      0.91       258\n",
      "        samples avg       0.91      0.94      0.91       258\n",
      "\n"
     ]
    },
    {
     "name": "stderr",
     "output_type": "stream",
     "text": [
      "C:\\Users\\Tobias\\anaconda3\\envs\\HateyBot\\lib\\site-packages\\sklearn\\metrics\\_classification.py:1334: UndefinedMetricWarning: Precision and F-score are ill-defined and being set to 0.0 in samples with no predicted labels. Use `zero_division` parameter to control this behavior.\n",
      "  _warn_prf(average, modifier, msg_start, len(result))\n"
     ]
    }
   ],
   "source": [
    "## Test the model on the test set\n",
    "classifier.test(test_dataloader)"
   ],
   "metadata": {
    "collapsed": false,
    "pycharm": {
     "name": "#%%\n"
    }
   }
  },
  {
   "cell_type": "code",
   "execution_count": 86,
   "outputs": [],
   "source": [
    "# save the model\n",
    "torch.save(classifier.model, config.result_file('roBERTa_MultLabel_class_model_balanced.pt'))"
   ],
   "metadata": {
    "collapsed": false,
    "pycharm": {
     "name": "#%%\n"
    }
   }
  },
  {
   "cell_type": "code",
   "execution_count": 87,
   "outputs": [
    {
     "name": "stdout",
     "output_type": "stream",
     "text": [
      "F1 Validation Accuracy:  34.198473282442755\n",
      "Flat Validation Accuracy:  29.330254041570434\n",
      "                     precision    recall  f1-score   support\n",
      "\n",
      "       type.ableism       0.83      0.10      0.17        52\n",
      "    type.homophobic       0.84      0.40      0.54        68\n",
      "  type.intellectual       0.00      0.00      0.00         0\n",
      "        type.racist       0.40      0.24      0.30        71\n",
      "        type.sexist       0.58      0.76      0.66        83\n",
      "type.sex_harassment       0.00      0.00      0.00         0\n",
      "   type.transphobic       0.00      0.00      0.00         0\n",
      "\n",
      "          micro avg       0.29      0.41      0.34       274\n",
      "          macro avg       0.38      0.21      0.24       274\n",
      "       weighted avg       0.65      0.41      0.44       274\n",
      "        samples avg       0.20      0.26      0.22       274\n",
      "\n"
     ]
    },
    {
     "name": "stderr",
     "output_type": "stream",
     "text": [
      "C:\\Users\\Tobias\\anaconda3\\envs\\HateyBot\\lib\\site-packages\\sklearn\\metrics\\_classification.py:1334: UndefinedMetricWarning: Precision and F-score are ill-defined and being set to 0.0 in labels with no predicted samples. Use `zero_division` parameter to control this behavior.\n",
      "  _warn_prf(average, modifier, msg_start, len(result))\n",
      "C:\\Users\\Tobias\\anaconda3\\envs\\HateyBot\\lib\\site-packages\\sklearn\\metrics\\_classification.py:1334: UndefinedMetricWarning: Recall and F-score are ill-defined and being set to 0.0 in labels with no true samples. Use `zero_division` parameter to control this behavior.\n",
      "  _warn_prf(average, modifier, msg_start, len(result))\n",
      "C:\\Users\\Tobias\\anaconda3\\envs\\HateyBot\\lib\\site-packages\\sklearn\\metrics\\_classification.py:1334: UndefinedMetricWarning: Precision and F-score are ill-defined and being set to 0.0 in samples with no predicted labels. Use `zero_division` parameter to control this behavior.\n",
      "  _warn_prf(average, modifier, msg_start, len(result))\n",
      "C:\\Users\\Tobias\\anaconda3\\envs\\HateyBot\\lib\\site-packages\\sklearn\\metrics\\_classification.py:1334: UndefinedMetricWarning: Recall and F-score are ill-defined and being set to 0.0 in samples with no true labels. Use `zero_division` parameter to control this behavior.\n",
      "  _warn_prf(average, modifier, msg_start, len(result))\n"
     ]
    }
   ],
   "source": [
    "# test the model on the ethos dataset\n",
    "ethos_dataloader = torch.load(config.result_file('ethos_dataloader.pt'))\n",
    "classifier.test(ethos_dataloader)"
   ],
   "metadata": {
    "collapsed": false,
    "pycharm": {
     "name": "#%%\n"
    }
   }
  },
  {
   "cell_type": "code",
   "execution_count": null,
   "outputs": [],
   "source": [],
   "metadata": {
    "collapsed": false,
    "pycharm": {
     "name": "#%%\n"
    }
   }
  }
 ],
 "metadata": {
  "kernelspec": {
   "display_name": "Python 3",
   "language": "python",
   "name": "python3"
  },
  "language_info": {
   "codemirror_mode": {
    "name": "ipython",
    "version": 2
   },
   "file_extension": ".py",
   "mimetype": "text/x-python",
   "name": "python",
   "nbconvert_exporter": "python",
   "pygments_lexer": "ipython2",
   "version": "2.7.6"
  }
 },
 "nbformat": 4,
 "nbformat_minor": 0
}